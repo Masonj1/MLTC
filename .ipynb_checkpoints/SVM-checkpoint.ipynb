{
 "cells": [
  {
   "cell_type": "code",
   "execution_count": 100,
   "metadata": {},
   "outputs": [],
   "source": [
    "# Finds and returns all scribal abbreviations in a text by looking for overbars\n",
    "def find(text):\n",
    "    shorts = []\n",
    "    words = text.split()\n",
    "    for i in words:\n",
    "        if chr(773) in i:\n",
    "            i = strip_accents(i)\n",
    "            i = clean_text(i)\n",
    "            if i not in shorts:\n",
    "                shorts.append(i)\n",
    "    return shorts"
   ]
  },
  {
   "cell_type": "code",
   "execution_count": 101,
   "metadata": {},
   "outputs": [],
   "source": [
    "import unicodedata\n",
    "import string\n",
    "def strip_accents(s):\n",
    "   return ''.join(c for c in unicodedata.normalize('NFD', s)\n",
    "                  if unicodedata.category(c) != 'Mn').upper()"
   ]
  },
  {
   "cell_type": "code",
   "execution_count": 102,
   "metadata": {},
   "outputs": [],
   "source": [
    "# Normalizes text for comparison\n",
    "def clean_text(text):\n",
    "    s = text.translate(str.maketrans('', '', string.punctuation))\n",
    "    s = s.translate({ord(i): None for i in '·'})\n",
    "    s = s.translate({ord(i): None for i in '’'})\n",
    "    s = s.translate({ord(i): None for i in '˙'})\n",
    "    s = s.translate({ord(i): None for i in 'ʼ'})\n",
    "    s = s.translate({ord(i): None for i in '⸆'})\n",
    "    s = s.translate({ord(i): None for i in '❏'})\n",
    "    s = s.translate({ord(i): None for i in '›'})\n",
    "    s = s.translate({ord(i): None for i in 'ϗ'})\n",
    "    s = s.translate({ord(i): None for i in ';'})\n",
    "    s = s.translate({ord(i): None for i in ';'})\n",
    "    s = s.translate({ord(i): None for i in '»'})\n",
    "    s = s.translate({ord(i): None for i in '«'})\n",
    "    s = s.translate({ord(i): None for i in ';'})\n",
    "    s = s.translate({ord(i): None for i in 'A'})\n",
    "    s = s.translate({ord(i): None for i in 'B'})\n",
    "    s = s.translate({ord(i): None for i in '᾽'})\n",
    "    s = s.translate({ord(i): None for i in '·'})\n",
    "    found = False\n",
    "    left = \"\"\n",
    "    right = \"\"\n",
    "    for i in range(len(s)):\n",
    "        if s[i] == '«':\n",
    "            found = True\n",
    "            left = s[:i]\n",
    "        if found:\n",
    "            if s[i] == '»':\n",
    "                right = s[i+1:]\n",
    "                break\n",
    "    if len(left) != 0 and len(right) != 0:\n",
    "        print(s)\n",
    "        s = left + right\n",
    "    for c in s:\n",
    "        if ord(c) < 913 or ord(c) > 937:\n",
    "            s.replace(c, '')\n",
    "    return s"
   ]
  },
  {
   "cell_type": "code",
   "execution_count": 103,
   "metadata": {},
   "outputs": [],
   "source": [
    "def clean_text1(text):\n",
    "    s = text.translate(str.maketrans('', '', string.punctuation))\n",
    "    for c in s:\n",
    "        if ord(c) < 913 or ord(c) > 937:\n",
    "            print(s)\n",
    "            print(s)\n",
    "    return s"
   ]
  },
  {
   "cell_type": "code",
   "execution_count": 104,
   "metadata": {},
   "outputs": [],
   "source": [
    "def separate_vnum(s):\n",
    "    digit = False\n",
    "    for i in range(len(s)):\n",
    "        if s[i].isdigit():\n",
    "            digit = True\n",
    "        elif digit:\n",
    "            digit = False\n",
    "            s = s[:i] + \" \" + s[i:]\n",
    "    return s"
   ]
  },
  {
   "cell_type": "code",
   "execution_count": 105,
   "metadata": {},
   "outputs": [
    {
     "data": {
      "text/plain": [
       "['ΘΝ',\n",
       " 'ΘΣ',\n",
       " 'ΑΝΘΡΩΠΩ',\n",
       " '',\n",
       " 'ΘΥ',\n",
       " 'ΕΡΧΟΜΕΝΟ',\n",
       " 'ΗΜΕΙ',\n",
       " 'ΠΡΣ',\n",
       " 'ΙΥ',\n",
       " 'ΧΥ',\n",
       " 'ΙΕΡΟΣΟΛΥΜΩ',\n",
       " 'ΕΡΩΤΗΣΩΣΙ',\n",
       " 'ΧΣ',\n",
       " 'ΚΥ',\n",
       " 'ΙΝ',\n",
       " 'ΠΝΑ',\n",
       " 'ΠΝΙ',\n",
       " 'ΑΓΙ',\n",
       " 'ΥΣ',\n",
       " 'ΠΕΡΙΠΑΤΟΥ',\n",
       " 'ΙΣ',\n",
       " 'ΑΚΟΛΟΥΘΗΣΑ',\n",
       " 'ΠΡΩΤΟ',\n",
       " 'ΗΘΕΛΗΣΕ',\n",
       " 'ΒΗΘΣΑΙΔΑ',\n",
       " 'ΥΝ',\n",
       " 'ΦΙΛΙΠΠΟ',\n",
       " 'ΑΝΟΥ']"
      ]
     },
     "execution_count": 105,
     "metadata": {},
     "output_type": "execute_result"
    }
   ],
   "source": [
    "# Finds all scribal abbreviations in P66 as a baseline\n",
    "file = open(\"P66(2).txt\", encoding='utf-8')\n",
    "text = file.read().replace('\\n', ' ')\n",
    "text = separate_vnum(text)\n",
    "find(text)"
   ]
  },
  {
   "cell_type": "code",
   "execution_count": 106,
   "metadata": {},
   "outputs": [],
   "source": [
    "# Dictionary that maps abbreviations to full words\n",
    "ab_dict = {'ΘΝ' : 'ΘΕΟΝ',\n",
    " 'ΘΣ' : 'ΘΕΟΣ',\n",
    " 'ΑΝΘΡΩΠΩ' : 'ΑΝΘΡΩΠΩΝ',\n",
    " '' : '',\n",
    " 'ΘΥ' : 'ΘΕΟΥ',\n",
    " 'ΕΡΧΟΜΕΝΟ' : 'ΕΡΧΟΜΕΝΟΝ',\n",
    " 'ΗΜΕΙ' : 'ΗΜΕΙΣ',\n",
    " 'ΠΡΣ' : 'ΠΑΤΡΟΣ',\n",
    " 'ΙΥ' : 'ΙΗΣΟΥ',\n",
    " 'ΧΥ' : 'ΧΡΙΣΤΟΥ',\n",
    " 'ΙΕΡΟΣΟΛΥΜΩ' : 'ΙΕΡΟΣΟΛΥΜΩΝ',\n",
    " 'ΕΡΩΤΗΣΩΣΙ' : 'ΕΡΩΤΗΣΩΣΙΝ',\n",
    " 'ΧΣ' : 'ΧΡΙΣΤΟΣ',\n",
    " 'ΚΥ' : 'ΚΥΡΙΟΥ',\n",
    " 'ΙΝ' : 'ΙΗΣΟΥΝ',\n",
    " 'ΠΝΑ' : 'ΠΝΕΥΜΑ',\n",
    " 'ΠΝΙ' : 'ΠΝΕΥΜΑΤΙ',\n",
    " 'ΑΓΙ' : 'ΑΓΙΩ',\n",
    " 'ΥΣ' : 'ΥΙΟΣ',\n",
    " 'ΠΕΡΙΠΑΤΟΥ' : 'ΠΕΡΙΠΑΤΟΥΝΤΙ',\n",
    " 'ΙΣ' : 'ΙΗΣΟΥΣ',\n",
    " 'ΑΚΟΛΟΥΘΗΣΑ' : 'ΑΚΟΛΟΥΘΗΣΑΝ',\n",
    " 'ΠΡΩΤΟ' : 'ΠΡΩΤΟΝ',\n",
    " 'ΗΘΕΛΗΣΕ' : 'ΗΘΕΛΗΣΕΝ',\n",
    " 'ΒΗΘΣΑΙΔΑ' : 'ΒΗΘΣΑΙΔΑ',\n",
    " 'ΥΝ' : 'ΥΙΟΝ',\n",
    " 'ΦΙΛΙΠΠΟ' : 'ΦΙΛΙΠΠΟΣ',\n",
    " 'ΑΝΟΥ' : 'ΑΝΘΡΩΠΟΥ',\n",
    " 'ΑΝΟΣ' : 'ΑΝΘΡΩΠΟΣ',\n",
    " 'ΓΕ' : 'ΓΕΝΝΗΘΗ',\n",
    " 'ΤΗ' : 'ΤΗΝ',\n",
    " 'ΑΜΗ' : 'ΑΜΗΝ',\n",
    " 'ΠΝΣ' : 'ΠΝΕΥΜΑΤΟΣ',\n",
    " 'ΠΝΕΥΑ' : 'ΠΝΕΥΜΑ',\n",
    " 'ΕΣΤΙ' : 'ΕΣΤΙΝ',\n",
    " 'ΠΝΣ' : 'ΠΝΕΥΜΑΤΟΣ',\n",
    " 'ΥΜΕΙ' : 'ΥΜΕΙΣ',\n",
    " 'ΟΥΡΑΝΟ' : 'ΟΥΡΑΝΟΥ',\n",
    " 'ΤΟ' : 'ΤΟΝ',\n",
    " 'ΤΗ' : 'ΤΗΝ',\n",
    " 'ΘΩ' : 'ΘΕΩ',\n",
    " 'ΕΡΧΟ' : 'ΕΡΧΟΝΤΑΙ',\n",
    " 'ΕΙΠΟ' : 'ΕΙΠΟΝ',\n",
    " 'Ω' : 'ΩΝ',\n",
    " 'ΠΗΡ' : 'ΠΑΤΗΡ',\n",
    " 'ΥΩ' : 'ΥΙΩ', \n",
    " 'ΥΜΙ' : 'ΥΜΙΝ', \n",
    " 'ΚΟΛΛΥΒΙΣΤΩ' : 'ΚΟΛΛΥΒΙΣΤΩΝ', \n",
    " 'ΕΙΠΕ' : 'ΕΙΠΕΝ', \n",
    " 'Ε' : 'ΕΝ',\n",
    " 'ΑΥΤΟ' : 'ΑΥΤΟΝ',\n",
    " 'Ο' : 'ΟΝ', \n",
    " 'ΕΙΧΕ' : 'ΕΙΧΕΝ', \n",
    " 'Β' : 'ΔΥΟ', \n",
    " 'Γ' : 'ΤΡΕΙΣ', \n",
    " 'ΠΩΛΟΥ' : 'ΠΩΛΟΥΝΤΑΣ', \n",
    " 'ΣΧΟΙΝΙΩ' : 'ΣΧΟΙΝΙΩΝ',  \n",
    " 'ΠΡΟΣ' : 'ΠΑΤΡΟΣ', \n",
    " 'Μ' : 'ΤΕΣΣΕΡΑΚΟΝΤΑ', \n",
    " 'ΟΥ' : 'ΟΥΝ', \n",
    " 'ΤΩ' : 'ΤΩΝ',\n",
    " 'ΠΝΕΙ' : 'ΠΝΕΙ',\n",
    " 'ΙΗΛ' : 'ΙΣΡΑΗΛ',\n",
    " 'ΥΥ' : 'ΥΙΟΥ', \n",
    " 'ΑΝΟΙ' : 'ΑΝΘΡΩΠΟΙ', \n",
    " 'ΑΚΟΥΩ' : 'ΑΚΟΥΩΝ', \n",
    " 'ΟΥΝΟΥ' : 'ΟΥΡΑΝΟΥ',\n",
    " 'ΧΡΣ' : 'ΧΡΙΣΤΟΣ',\n",
    " 'ΑΝΩΝ' : 'ΑΝΘΡΩΠΩΝ',\n",
    " 'ΙΗΣ' : 'ΙΗΣΟΥΣ',\n",
    " 'ΠΡΑ' : 'ΠΑΤΗΡΑ', \n",
    " 'ΠΑΛΙ' : 'ΠΑΛΙΝ',\n",
    " 'ΕΙΠΕ' : 'ΕΙΠΕΝ', \n",
    " 'ΠΡΙ' : 'ΠΑΤΡΙ',  \n",
    " 'ΕΙΠΑ' : 'ΕΙΠΑΝ',\n",
    " 'ΑΝΟΝ' : 'ΑΝΘΡΩΠΟΝ',\n",
    " 'ΥΜΩ' : 'ΥΜΩΝ',\n",
    " 'ΕΙΔΕ' : 'ΕΙΔΕΝ', \n",
    " 'ΑΝΘΡΩΠΟ' : 'ΑΝΘΡΩΠΟΝ', \n",
    " 'ΗΜΩ' : 'ΗΜΩΝ',\n",
    " 'ΛΟΓΟ' : 'ΛΟΓΟΝ',\n",
    " 'ΚΕ' : 'ΚΥΡΙΕ'}"
   ]
  },
  {
   "cell_type": "code",
   "execution_count": 107,
   "metadata": {},
   "outputs": [],
   "source": [
    "# Replaces scribal abbreviations with full words\n",
    "def replace(dict, text):\n",
    "    words = text.split()\n",
    "    newtext = \"\"\n",
    "    for word in words:\n",
    "        if chr(773) in word:\n",
    "            word = strip_accents(word)\n",
    "            newtext += dict[word] + \" \"\n",
    "        else:\n",
    "            newtext += word + \" \"\n",
    "    return newtext"
   ]
  },
  {
   "cell_type": "code",
   "execution_count": 108,
   "metadata": {},
   "outputs": [],
   "source": [
    "# Looks for any new scribal abbreviations in the given text using the already constructed dictionary\n",
    "def find_new(text):\n",
    "    text = separate_vnum(text)\n",
    "    words = text.split()\n",
    "    new = []\n",
    "    for word in words:\n",
    "        if chr(773) in word:\n",
    "            word = clean_text(word)\n",
    "            word = strip_accents(word)\n",
    "            if word not in ab_dict.keys() and word not in new:\n",
    "                new.append(word)\n",
    "    return new"
   ]
  },
  {
   "cell_type": "code",
   "execution_count": 109,
   "metadata": {},
   "outputs": [],
   "source": [
    "def gen_dict(text):\n",
    "    words = set()\n",
    "    wlist = text.split()\n",
    "    for w in wlist:\n",
    "        if not w.isnumeric():\n",
    "            words.add(w)\n",
    "    return words"
   ]
  },
  {
   "cell_type": "code",
   "execution_count": 110,
   "metadata": {},
   "outputs": [],
   "source": [
    "def addMan(data, text, date, category, msid):\n",
    "    text = separate_vnum(text)\n",
    "    text = clean_text(text)\n",
    "    text = replace(ab_dict, text)\n",
    "    text = strip_accents(text)\n",
    "    data[0] = date\n",
    "    verse = \"\"\n",
    "    vnum = 0\n",
    "    sp = text.split()\n",
    "    for i in sp:\n",
    "        try:\n",
    "            temp = vnum\n",
    "            vnum = int(i)\n",
    "            if verse != \"\":\n",
    "                data[temp] = verse\n",
    "                verse = \"\"\n",
    "                while(temp != vnum + 1 and temp != vnum):\n",
    "                    temp += 1\n",
    "                    data[temp] = verse\n",
    "        except ValueError:\n",
    "            verse += i\n",
    "    data[vnum] = verse\n",
    "    data.append(category)\n",
    "    data.append(msid)\n",
    "    mss.append(data)"
   ]
  },
  {
   "cell_type": "code",
   "execution_count": 111,
   "metadata": {},
   "outputs": [],
   "source": [
    "# NA28 reading of John 1\n",
    "file = open(\"NA28.txt\", encoding='utf-8')\n",
    "s = file.read().replace('\\n', ' ')"
   ]
  },
  {
   "cell_type": "code",
   "execution_count": 112,
   "metadata": {},
   "outputs": [],
   "source": [
    "from copy import copy\n",
    "s = clean_text(s)\n",
    "s = strip_accents(s)\n",
    "NA = copy(s)"
   ]
  },
  {
   "cell_type": "code",
   "execution_count": 113,
   "metadata": {},
   "outputs": [
    {
     "name": "stdout",
     "output_type": "stream",
     "text": [
      "ΟΥΤΟΣΗΝΕΝΑΡΧΗΠΡΟΣΤΟΝΘΕΟΝ\n"
     ]
    }
   ],
   "source": [
    "# The base text is from the Nestle-Aland Greek New Testament Version 28\n",
    "test = [None]*100\n",
    "test.append(\"NA28\")\n",
    "# The first element of the array will usually be the date of the manuscript, but for the base text it is 0\n",
    "test[0] = 0;\n",
    "verse = \"\"\n",
    "vnum = 0\n",
    "sp = s.split()\n",
    "for i in sp:\n",
    "    try:\n",
    "        temp = vnum\n",
    "        vnum = int(i)\n",
    "        if verse != \"\":\n",
    "            test[temp] = verse\n",
    "            verse = \"\"\n",
    "    except ValueError:\n",
    "        verse = verse+i\n",
    "test[vnum] = verse\n",
    "print(test[2])\n",
    "mss = [test]"
   ]
  },
  {
   "cell_type": "code",
   "execution_count": 114,
   "metadata": {},
   "outputs": [],
   "source": [
    "# Loads Codex Sinaiticus (01) into the database\n",
    "training = [None]*100\n",
    "file = open(\"01.txt\", encoding='utf-8')\n",
    "name = \"Sinaiticus(01)\"\n",
    "category = 1\n",
    "msid = 1001\n",
    "# Codex Sinaiticus was written around 330-350 A.D, so the date is estimated here at 340\n",
    "date = 340\n",
    "text = file.read().replace('\\n', ' ')"
   ]
  },
  {
   "cell_type": "code",
   "execution_count": 115,
   "metadata": {},
   "outputs": [
    {
     "data": {
      "text/plain": [
       "[]"
      ]
     },
     "execution_count": 115,
     "metadata": {},
     "output_type": "execute_result"
    }
   ],
   "source": [
    "find_new(text)"
   ]
  },
  {
   "cell_type": "code",
   "execution_count": 116,
   "metadata": {},
   "outputs": [],
   "source": [
    "addMan(training, text, date, category, msid)"
   ]
  },
  {
   "cell_type": "code",
   "execution_count": null,
   "metadata": {},
   "outputs": [],
   "source": []
  },
  {
   "cell_type": "code",
   "execution_count": 117,
   "metadata": {},
   "outputs": [],
   "source": [
    "# Loads manuscript P5 into the database\n",
    "training = [None]*100\n",
    "file = open(\"P5.txt\", encoding='utf-8')\n",
    "name = \"P5\"\n",
    "category = 1\n",
    "msid = 5\n",
    "# Manuscript P5 was written around the third century A.D, so the date is estimated here at 250\n",
    "date = 250\n",
    "text = file.read().replace('\\n', ' ')"
   ]
  },
  {
   "cell_type": "code",
   "execution_count": 118,
   "metadata": {},
   "outputs": [
    {
     "data": {
      "text/plain": [
       "[]"
      ]
     },
     "execution_count": 118,
     "metadata": {},
     "output_type": "execute_result"
    }
   ],
   "source": [
    "find_new(text)"
   ]
  },
  {
   "cell_type": "code",
   "execution_count": 119,
   "metadata": {},
   "outputs": [],
   "source": [
    "addMan(training, text, date, category, msid)"
   ]
  },
  {
   "cell_type": "code",
   "execution_count": 120,
   "metadata": {},
   "outputs": [],
   "source": [
    "# Loads Codex Bezae (05) into the database\n",
    "training = [None]*100\n",
    "file = open(\"05.txt\", encoding='utf-8')\n",
    "name = \"05\"\n",
    "category = 4\n",
    "msid = 1005\n",
    "# Codex Bezae was written around 400 A.D.\n",
    "date = 400\n",
    "text = file.read().replace('\\n', ' ')"
   ]
  },
  {
   "cell_type": "code",
   "execution_count": 121,
   "metadata": {},
   "outputs": [
    {
     "data": {
      "text/plain": [
       "[]"
      ]
     },
     "execution_count": 121,
     "metadata": {},
     "output_type": "execute_result"
    }
   ],
   "source": [
    "find_new(text)"
   ]
  },
  {
   "cell_type": "code",
   "execution_count": 122,
   "metadata": {},
   "outputs": [],
   "source": [
    "addMan(training, text, date, category, msid)"
   ]
  },
  {
   "cell_type": "code",
   "execution_count": 123,
   "metadata": {},
   "outputs": [],
   "source": [
    "# Loads manuscript P66 into the database\n",
    "training = [None]*100\n",
    "file = open(\"P66.txt\", encoding='utf-8')\n",
    "name = \"P66\"\n",
    "category = 1\n",
    "msid = 66\n",
    "# Manuscript P66 was likely written around 150 A.D.\n",
    "date = 150\n",
    "text = file.read().replace('\\n', ' ')"
   ]
  },
  {
   "cell_type": "code",
   "execution_count": 124,
   "metadata": {},
   "outputs": [
    {
     "data": {
      "text/plain": [
       "[]"
      ]
     },
     "execution_count": 124,
     "metadata": {},
     "output_type": "execute_result"
    }
   ],
   "source": [
    "find_new(text)"
   ]
  },
  {
   "cell_type": "code",
   "execution_count": 125,
   "metadata": {},
   "outputs": [],
   "source": [
    "addMan(training, text, date, category, msid)"
   ]
  },
  {
   "cell_type": "code",
   "execution_count": 126,
   "metadata": {},
   "outputs": [],
   "source": [
    "# Loads manuscript P75 into the database\n",
    "training = [None]*100\n",
    "file = open(\"P75.txt\", encoding='utf-8')\n",
    "name = \"P75\"\n",
    "category = 1\n",
    "msid = 75\n",
    "# Manuscript P75 was likely written around 200 A.D.\n",
    "date = 200\n",
    "text = file.read().replace('\\n', ' ')"
   ]
  },
  {
   "cell_type": "code",
   "execution_count": 127,
   "metadata": {},
   "outputs": [
    {
     "data": {
      "text/plain": [
       "[]"
      ]
     },
     "execution_count": 127,
     "metadata": {},
     "output_type": "execute_result"
    }
   ],
   "source": [
    "find_new(text)"
   ]
  },
  {
   "cell_type": "code",
   "execution_count": 128,
   "metadata": {},
   "outputs": [],
   "source": [
    "addMan(training, text, date, category, msid)"
   ]
  },
  {
   "cell_type": "code",
   "execution_count": 129,
   "metadata": {},
   "outputs": [],
   "source": [
    "# Loads Codex Vaticanus (03) into the database\n",
    "training = [None]*100\n",
    "file = open(\"03.txt\", encoding='utf-8')\n",
    "name = \"03\"\n",
    "category = 4\n",
    "msid = 1003\n",
    "# Codex Vaticanus was written around 350 A.D.\n",
    "date = 350\n",
    "text = file.read().replace('\\n', ' ')"
   ]
  },
  {
   "cell_type": "code",
   "execution_count": 130,
   "metadata": {},
   "outputs": [
    {
     "data": {
      "text/plain": [
       "[]"
      ]
     },
     "execution_count": 130,
     "metadata": {},
     "output_type": "execute_result"
    }
   ],
   "source": [
    "find_new(text)"
   ]
  },
  {
   "cell_type": "code",
   "execution_count": 131,
   "metadata": {},
   "outputs": [],
   "source": [
    "addMan(training, text, date, category, msid)"
   ]
  },
  {
   "cell_type": "code",
   "execution_count": 132,
   "metadata": {},
   "outputs": [],
   "source": [
    "# Computes the mode length of each verse and stores it in an array\n",
    "def find_modes(mss, vnum):\n",
    "    from statistics import mode\n",
    "    modes = [0]\n",
    "    for i in range(1, vnum+1):\n",
    "        lengths = []\n",
    "        for j in range(len(mss)):\n",
    "            if mss[j][i] != None:\n",
    "                lengths.append(len(mss[j][i]))\n",
    "        try:\n",
    "            modes.append(mode(lengths))\n",
    "        except:\n",
    "            try:\n",
    "                modes.append(max(lengths, key = lengths.count))\n",
    "            except:\n",
    "                modes.append(0)\n",
    "    return modes"
   ]
  },
  {
   "cell_type": "code",
   "execution_count": 133,
   "metadata": {},
   "outputs": [],
   "source": [
    "# Finds the number of manuscripts that agree with the current reading\n",
    "def findMatches(mss, text, vnum):\n",
    "    matches = 0\n",
    "    for i in mss:\n",
    "        if i[vnum] == text:\n",
    "#             print(\"Made it!\")\n",
    "            matches += 1\n",
    "    return matches"
   ]
  },
  {
   "cell_type": "code",
   "execution_count": 134,
   "metadata": {},
   "outputs": [],
   "source": [
    "# Converts the text of a verse into an integer\n",
    "def textToNum(text):\n",
    "    total = 0;\n",
    "    for i in range(len(text)):\n",
    "        val = (ord(text[i])-912)*24**(i+1)\n",
    "        total += val\n",
    "    return total"
   ]
  },
  {
   "cell_type": "code",
   "execution_count": 135,
   "metadata": {},
   "outputs": [],
   "source": [
    "def meanDate(mss):\n",
    "    sumdates = 0\n",
    "    numdates = 0\n",
    "    for i in mss:\n",
    "        if i != mss[0]:\n",
    "            sumdates += i[0]\n",
    "            numdates += 1\n",
    "    return sumdates/numdates"
   ]
  },
  {
   "cell_type": "code",
   "execution_count": 136,
   "metadata": {},
   "outputs": [],
   "source": [
    "# Formats and generates training data\n",
    "def get_data(mss, vnum):\n",
    "    avgdate = meanDate(mss)\n",
    "    data = []\n",
    "    targets = []\n",
    "    for i in mss:\n",
    "        if i != mss[0]:\n",
    "            for j in range(1, vnum+1):\n",
    "                if i[j] != None:\n",
    "                    # Each verse is stored in the format [date, length-mode, number of manuscripts with the same reading, textual category, id]\n",
    "                    verse = []\n",
    "                    verse.append(i[0]-avgdate)\n",
    "                    verse.append(len(i[j])-modes[j])\n",
    "                    verse.append(findMatches(mss[1:], i[j], j))\n",
    "                    verse.append(i[100])\n",
    "                    verse.append(i[101])\n",
    "                    data.append(verse)\n",
    "                    if i[j] == mss[0][j]:\n",
    "                        targets.append(1)\n",
    "                    else:\n",
    "                        targets.append(0)\n",
    "    return data, targets"
   ]
  },
  {
   "cell_type": "code",
   "execution_count": null,
   "metadata": {},
   "outputs": [],
   "source": []
  },
  {
   "cell_type": "code",
   "execution_count": 137,
   "metadata": {},
   "outputs": [],
   "source": [
    "def get_variants(mss, length):\n",
    "    verses = []\n",
    "    for i in range(1,length):\n",
    "        variants = {}\n",
    "        for j in mss:\n",
    "            if j[i] not in variants and j[i] != None:\n",
    "                variants[j[i]] = findMatches(mss,j[i],i)\n",
    "        verses.append(variants)\n",
    "    return verses"
   ]
  },
  {
   "cell_type": "code",
   "execution_count": 138,
   "metadata": {},
   "outputs": [],
   "source": [
    "import csv\n",
    "from copy import deepcopy\n",
    "def export_data(filename, data):\n",
    "    data = deepcopy(data)\n",
    "    rows = [[\"Date\", \"Length-Mode\", \"# of MSS in Agreement\", \"Category\", \"Correct\"]]\n",
    "    for i in range(len(data[0])):\n",
    "        data[0][i].append(data[1][i])\n",
    "        rows.append(data[0][i])\n",
    "    with open(filename, 'w', newline='') as file:\n",
    "        writer = csv.writer(file)\n",
    "        writer.writerows(rows)"
   ]
  },
  {
   "cell_type": "code",
   "execution_count": 139,
   "metadata": {},
   "outputs": [],
   "source": [
    "from sklearn.svm import SVC\n",
    "modes = find_modes(mss, 51)\n",
    "training = get_data(mss, 51)\n",
    "data = training[0]\n",
    "targets = training[1]\n",
    "export_data(\"data.csv\", training)"
   ]
  },
  {
   "cell_type": "code",
   "execution_count": 140,
   "metadata": {},
   "outputs": [
    {
     "name": "stdout",
     "output_type": "stream",
     "text": [
      "Version 1: πάντα δι’ αὐτοῦ ἐγένετο, καὶ χωρὶς αὐτοῦ ἐγένετο οὐδ' ἕν. ὃ γέγονεν\n",
      "Version 2: πάντα δι’ αὐτοῦ ἐγένετο, καὶ χωρὶς αὐτοῦ ἐγένετο οὐδὲ ἕν. ὃ γέγονεν\n",
      "Version 3: πάντα δι’ αὐτοῦ ἐνέγετο, καὶ χωρὶς αὐτοῦ ἐγένετο οὐδ' ἕν. ὃ γέγονεν\n",
      "\n",
      "ΠΑΝΤΑΔΙΑΥΤΟΥΕΓΕΝΕΤΟΚΑΙΧΩΡΙΣΑΥΤΟΥΕΓΕΝΕΤΟΟΥΔΕΕΝΟΓΕΓΟΝΕΝ - # number of manuscripts: 3\n",
      "ΠΑΝΤΑΔΙΑΥΤΟΥΕΓΕΝΕΤΟΚΑΙΧΩΡΙΣΑΥΤΟΥΕΓΕΝΕΤΟΟΥΔΕΝΟΓΕΓΟΝΕΝ - # number of manuscripts: 2\n",
      "ΠΑΝΤΑΔΙΑΥΤΟΥΕΝΕΓΕΤΟΚΑΙΧΩΡΙΣΑΥΤΟΥΕΓΕΝΕΤΟΟΥΔΕΝΟΓΕΓΟΝΕΝ - # number of manuscripts: 1\n",
      "\n",
      "John 1:3 - \"All things through him were made, and without him was not anything made that was made.\"\n",
      "Version 1: original text, copied perfectly\n",
      "Version 2: unabreviated ουδέ (nothing/not anything) as opposed to ουδ' in the original\n",
      "Version 3: misspelled word due to scribal error\n"
     ]
    }
   ],
   "source": [
    "print(\"Version 1: πάντα δι’ αὐτοῦ ἐγένετο, καὶ χωρὶς αὐτοῦ ἐγένετο οὐδ' ἕν. ὃ γέγονεν\")\n",
    "print(\"Version 2: πάντα δι’ αὐτοῦ ἐγένετο, καὶ χωρὶς αὐτοῦ ἐγένετο οὐδὲ ἕν. ὃ γέγονεν\")\n",
    "print(\"Version 3: πάντα δι’ αὐτοῦ ἐνέγετο, καὶ χωρὶς αὐτοῦ ἐγένετο οὐδ' ἕν. ὃ γέγονεν\\n\")\n",
    "variants = get_variants(mss, 51)\n",
    "vnum = 3\n",
    "for i in variants[vnum-1]:\n",
    "    print(i + \" - # number of manuscripts: \" + str(variants[vnum-1][i]))\n",
    "print(\"\\nJohn 1:3 - \\\"All things through him were made, and without him was not anything made that was made.\\\"\")\n",
    "print(\"Version 1: original text, copied perfectly\")\n",
    "print(\"Version 2: unabreviated ουδέ (nothing/not anything) as opposed to ουδ' in the original\")\n",
    "print(\"Version 3: misspelled word due to scribal error\")"
   ]
  },
  {
   "cell_type": "code",
   "execution_count": 141,
   "metadata": {},
   "outputs": [
    {
     "name": "stdout",
     "output_type": "stream",
     "text": [
      "ΕΝΑΥΤΩΖΩΗΗΝΚΑΙΗΖΩΗΗΝΤΟΦΩΣΤΩΝΑΝΘΡΩΠΩΝ: 3\n",
      "ΕΝΑΥΤΩΖΩΗΕΣΤΙΝΚΑΙΗΖΩΗΗΝΤΟΦΩΣΤΩΝΑΝΘΡΩΠΩΝ: 2\n",
      "ΑΥΤΩΖΩΗΗΝΚΑΙΗΖΩΗΗΝΤΟΦΩΣΤΩΝΑΝΘΡΩΠΩΝ: 1\n",
      "\n",
      "John 1:4 - \"In him was life, and the life was the light of men.\"\n",
      "Version 1: original text, copied perfectly\n",
      "Version 2: \"In him is life and the life was the light of men.\"\n",
      "Version 3: \"in\" implied by dative αὐτω rather than explicit\n"
     ]
    }
   ],
   "source": [
    "variants = get_variants(mss, 51)\n",
    "vnum = 4\n",
    "for i in variants[vnum-1]:\n",
    "    print(i + \": \" + str(variants[vnum-1][i]))\n",
    "print(\"\\nJohn 1:4 - \\\"In him was life, and the life was the light of men.\\\"\")\n",
    "print(\"Version 1: original text, copied perfectly\")\n",
    "print(\"Version 2: \\\"In him is life and the life was the light of men.\\\"\")\n",
    "print(\"Version 3: \\\"in\\\" implied by dative αὐτω rather than explicit\")"
   ]
  },
  {
   "cell_type": "code",
   "execution_count": 142,
   "metadata": {},
   "outputs": [
    {
     "name": "stdout",
     "output_type": "stream",
     "text": [
      "0.9789915966386554\n",
      "[[114   4]\n",
      " [  1 119]]\n"
     ]
    }
   ],
   "source": [
    "# The SVM produces an impressive 97.8% accuracy on the training data\n",
    "clf = SVC(gamma=\"auto\", C=200000)\n",
    "clf.fit(data, targets)\n",
    "from sklearn.metrics import accuracy_score\n",
    "from sklearn.metrics import confusion_matrix\n",
    "print(accuracy_score(targets, clf.predict(data)))\n",
    "print(confusion_matrix(targets, clf.predict(data)))"
   ]
  },
  {
   "cell_type": "code",
   "execution_count": 143,
   "metadata": {},
   "outputs": [
    {
     "name": "stdout",
     "output_type": "stream",
     "text": [
      "ΕΝΑΡΧΗΗΝΟΛΟΓΟΣΚΑΙΟΛΟΓΟΣΗΝΠΡΟΣΤΟΝΘΕΟΝΚΑΙΘΕΟΣΗΝΟΛΟΓΟΣ: 6\n",
      "\n",
      "ΟΥΤΟΣΗΝΕΝΑΡΧΗΠΡΟΣΤΟΝΘΕΟΝ: 6\n",
      "\n",
      "ΠΑΝΤΑΔΙΑΥΤΟΥΕΓΕΝΕΤΟΚΑΙΧΩΡΙΣΑΥΤΟΥΕΓΕΝΕΤΟΟΥΔΕΕΝΟΓΕΓΟΝΕΝ: 3\n",
      "ΠΑΝΤΑΔΙΑΥΤΟΥΕΓΕΝΕΤΟΚΑΙΧΩΡΙΣΑΥΤΟΥΕΓΕΝΕΤΟΟΥΔΕΝΟΓΕΓΟΝΕΝ: 2\n",
      "ΠΑΝΤΑΔΙΑΥΤΟΥΕΝΕΓΕΤΟΚΑΙΧΩΡΙΣΑΥΤΟΥΕΓΕΝΕΤΟΟΥΔΕΝΟΓΕΓΟΝΕΝ: 1\n",
      "\n",
      "ΕΝΑΥΤΩΖΩΗΗΝΚΑΙΗΖΩΗΗΝΤΟΦΩΣΤΩΝΑΝΘΡΩΠΩΝ: 3\n",
      "ΕΝΑΥΤΩΖΩΗΕΣΤΙΝΚΑΙΗΖΩΗΗΝΤΟΦΩΣΤΩΝΑΝΘΡΩΠΩΝ: 2\n",
      "ΑΥΤΩΖΩΗΗΝΚΑΙΗΖΩΗΗΝΤΟΦΩΣΤΩΝΑΝΘΡΩΠΩΝ: 1\n",
      "\n",
      "ΚΑΙΤΟΦΩΣΕΝΤΗΣΚΟΤΙΑΦΑΙΝΕΙΚΑΙΗΣΚΟΤΙΑΑΥΤΟΟΥΚΑΤΕΛΑΒΕΝ: 5\n",
      "ΚΑΙΤΟΦΩΣΕΝΤΗΣΚΟΤΕΙΑΦΑΙΝΕΙΚΑΙΗΣΚΟΤΕΙΑΑΥΤΟΟΥΚΑΤΕΛΑΒΕΝ: 1\n",
      "\n",
      "ΕΓΕΝΕΤΟΑΝΘΡΩΠΟΣΑΠΕΣΤΑΛΜΕΝΟΣΠΑΡΑΘΕΟΥΟΝΟΜΑΑΥΤΩΙΩΑΝΝΗΣ: 3\n",
      "ΕΓΕΝΕΤΟΑΝΘΡΩΠΟΣΑΠΕΣΤΑΛΜΕΝΟΣΠΑΡΑΘΕΟΥΗΝΟΝΟΜΑΑΥΤΩΙΩΑΝΝΗΣ: 1\n",
      "ΕΓΕΝΕΤΟΑΝΘΡΩΠΟΣΑΠΕΣΤΑΛΜΕΝΟΣΠΑΡΑΚΥΡΙΟΥΕΝΟΝΟΜΑΑΥΤΩΙΩΑΝΝΗΝ: 1\n",
      "ΕΓΕΝΕΤΟΑΝΘΡΩΠΟΣΑΠΕΣΤΑΛΜΕΝΟΣΠΑΡΑΘΕΟΥΟΝΟΜΑΑΥΤΩΙΩΑΝΗΣ: 1\n",
      "\n",
      "ΟΥΤΟΣΗΛΘΕΝΕΙΣΜΑΡΤΥΡΙΑΝΙΝΑΜΑΡΤΥΡΗΣΗΠΕΡΙΤΟΥΦΩΤΟΣΙΝΑΠΑΝΤΕΣΠΙΣΤΕΥΣΩΣΙΝΔΙΑΥΤΟΥ: 4\n",
      "ΟΥΤΟΣΗΛΘΕΝΕΙΣΜΑΡΤΥΡΙΑΝΙΝΑΜΑΡΤΥΡΗΣΗΠΕΡΙΤΟΥΦΩΤΟΣΙΝΑΠΑΝΤΕΣΠΙΣΤΕΥΣΟΥΣΙΝΔΙΑΥΤΟΥ: 1\n",
      "ΟΥΤΟΣΗΛΘΕΝΕΙΣΜΑΡΤΥΡΙΟΝΙΝΑΜΑΡΤΥΡΗΣΗΠΕΡΙΤΟΥΦΩΤΟΣΙΝΑΠΑΝΤΕΣΠΙΣΤΕΥΣΩΣΙΝΔΙΑΥΤΟΥ: 1\n",
      "\n",
      "ΟΥΚΗΝΕΚΕΙΝΟΣΤΟΦΩΣΑΛΛΙΝΑΜΑΡΤΥΡΗΣΗΠΕΡΙΤΟΥΦΩΤΟΣ: 4\n",
      "ΟΥΚΗΝΕΚΙΝΟΣΤΟΦΩΣΑΛΛΙΝΑΜΑΡΤΥΡΗΣΗΠΕΡΙΤΟΥΦΩΤΟΣ: 1\n",
      "ΟΥΚΗΝΕΚΕΙΝΟΣΤΟΦΩΣΑΛΛΑΙΝΑΜΑΡΤΥΡΗΣΗΠΕΡΙΤΟΥΦΩΤΟΣ: 1\n",
      "\n",
      "ΗΝΤΟΦΩΣΤΟΑΛΗΘΙΝΟΝΟΦΩΤΙΖΕΙΠΑΝΤΑΑΝΘΡΩΠΟΝΕΡΧΟΜΕΝΟΝΕΙΣΤΟΝΚΟΣΜΟΝ: 5\n",
      "ΗΝΤΟΦΩΣΤΟΑΛΗΘΕΙΝΟΝΟΦΩΤΙΖΕΙΠΑΝΤΑΑΝΘΡΩΠΟΝΕΡΧΟΜΕΝΟΝΕΙΣΤΟΝΚΟΣΜΟΝ: 1\n",
      "\n",
      "ΕΝΤΩΚΟΣΜΩΗΝΚΑΙΟΚΟΣΜΟΣΔΙΑΥΤΟΥΕΓΕΝΕΤΟΚΑΙΟΚΟΣΜΟΣΑΥΤΟΝΟΥΚΕΓΝΩ: 4\n",
      "ΕΝΤΩΚΟΣΜΩΗΝΚΑΙΟΚΟΣΜΟΣΔΙΑΥΤΟΝΕΓΕΝΕΤΟΚΑΙΟΚΟΣΜΟΣΑΥΤΟΝΟΥΚΕΓΝΩ: 1\n",
      "ΕΝΤΩΚΟΣΜΩΗΝΟΚΟΣΜΟΣΔΙΑΥΤΟΥΕΓΕΝΕΤΟΚΑΙΟΚΟΣΜΟΣΑΥΤΟΝΟΥΚΕΓΝΩ: 1\n",
      "\n",
      "ΕΙΣΤΑΙΔΙΑΗΛΘΕΝΚΑΙΟΙΙΔΙΟΙΑΥΤΟΝΟΥΠΑΡΕΛΑΒΟΝ: 6\n",
      "\n",
      "ΟΣΟΙΔΕΕΛΑΒΟΝΑΥΤΟΝΕΔΩΚΕΝΑΥΤΟΙΣΕΞΟΥΣΙΑΝΤΕΚΝΑΘΕΟΥΓΕΝΕΣΘΑΙΤΟΙΣΠΙΣΤΕΥΟΥΣΙΝΕΙΣΤΟΟΝΟΜΑΑΥΤΟΥ: 4\n",
      "ΟΣΟΙΔΕΕΛΑΒΟΝΑΥΤΟΝΕΔΩΚΕΝΑΥΤΟΙΣΕΞΟΥΣΙΑΝΤΕΚΝΑΘΕΟΥΓΕΝΕΣΘΕΤΟΙΣΠΙΣΤΕΥΟΥΣΙΝΕΙΣΤΟΟΝΟΜΑΑΥΤΟΥ: 1\n",
      "ΟΣΟΙΕΛΑΒΟΝΑΥΤΟΝΕΔΩΝΑΥΤΩΕΞΟΥΣΙΑΝΤΕΚΝΑΘΕΟΥΓΕΝΕΣΘΑΙΤΟΙΣΠΙΣΤΕΥΟΥΣΙΝΕΙΣΤΟΟΝΟΜΑΑΥΤΟΥ: 1\n",
      "\n",
      "ΟΙΟΥΚΕΞΑΙΜΑΤΩΝΟΥΔΕΕΚΘΕΛΗΜΑΤΟΣΣΑΡΚΟΣΟΥΔΕΕΚΘΕΛΗΜΑΤΟΣΑΝΔΡΟΣΑΛΛΕΚΘΕΟΥΕΓΕΝΝΗΘΗΣΑΝ: 2\n",
      "ΟΙΟΥΚΕΞΑΙΜΑΤΩΝΟΥΔΕΕΚΘΕΛΗΜΑΤΟΣΣΑΡΚΟΣΟΥΔΕΘΕΛΗΜΑΤΟΣΑΝΔΡΟΣΑΛΛΕΚΘΕΟΥΕΓΕΝΝΗΘΗΣΑΝ: 1\n",
      "ΟΥΚΕΞΕΜΑΤΩΝΟΥΔΕΕΚΘΕΛΗΜΑΤΟΣΣΑΡΚΟΣΟΥΔΕΘΕΛΗΜΑΤΟΣΑΝΔΡΟΣΑΛΛΕΚΘΕΟΥΕΓΕΝΝΗΘΗΣΑΝ: 1\n",
      "ΟΙΟΥΚΕΞΑΙΜΑΤΩΝΟΥΔΕΕΚΘΕΛΗΜΑΤΟΣΣΑΡΚΟΣΟΥΔΕΕΚΘΕΛΗΜΑΤΟΣΑΝΔΡΟΣΑΛΛΑΕΚΘΕΟΥΕΓΕΝΝΗΘΗΣΑΝ: 1\n",
      "ΟΙΟΥΚΕΞΑΙΜΑΤΩΝΟΥΔΕΕΚΘΕΛΗΜΑΤΟΣΣΑΡΚΟΣΟΥΔΕΕΚΘΕΛΗΜΑΤΟΣΑΝΔΡΟΣΑΛΛΕΚΘΕΟΥΕΓΕΝΗΘΗΣΑΝ: 1\n",
      "\n",
      "ΚΑΙΟΛΟΓΟΣΣΑΡΞΕΓΕΝΕΤΟΚΑΙΕΣΚΗΝΩΣΕΝΕΝΗΜΙΝΚΑΙΕΘΕΑΣΑΜΕΘΑΤΗΝΔΟΞΑΝΑΥΤΟΥΔΟΞΑΝΩΣΜΟΝΟΓΕΝΟΥΣΠΑΡΑΠΑΤΡΟΣΠΛΗΡΗΣΧΑΡΙΤΟΣΚΑΙΑΛΗΘΕΙΑΣ: 3\n",
      "ΚΑΙΟΛΟΓΟΣΣΑΡΞΕΓΕΝΕΤΟΚΑΙΕΣΚΗΝΩΣΕΝΕΝΗΜΙΝΚΑΙΕΘΕΑΣΑΜΕΘΑΤΗΝΔΟΞΑΝΑΥΤΟΥΔΟΞΑΝΩΣΜΟΝΟΓΕΝΟΥΣΠΑΡΑΠΑΤΡΟΣΠΛΗΡΗΣΧΑΡΙΤΟΣΚΑΙΑΛΗΘΙΑΣ: 1\n",
      "ΚΑΙΟΛΟΓΟΣΣΑΡΞΕΓΕΝΕΤΟΚΑΙΕΣΚΗΝΩΣΕΝΕΝΗΜΕΙΝΚΑΙΕΘΕΑΣΑΜΕΘΑΤΗΝΔΟΞΑΝΑΥΤΟΥΔΟΞΑΝΩΣΜΟΝΟΓΕΝΟΥΣΠΑΡΑΠΑΤΡΟΣΠΛΗΡΗΧΑΡΙΤΟΣΚΑΙΑΛΗΘΙΑΣ: 1\n",
      "ΚΑΙΟΛΟΓΟΣΣΑΡΞΕΓΕΝΕΤΟΚΑΙΕΣΚΗΝΩΣΕΝΕΝΗΜΕΙΣΚΑΙΕΘΕΑΣΑΜΕΘΑΤΗΝΔΟΞΑΝΑΥΤΟΥΔΟΞΑΝΩΣΜΟΝΟΓΕΝΟΥΣΠΑΡΑΠΑΤΡΟΣΠΛΗΡΗΣΧΑΡΙΤΟΣΚΑΙΑΛΗΘΙΑΣ: 1\n",
      "\n",
      "ΙΩΑΝΝΗΣΜΑΡΤΥΡΕΙΠΕΡΙΑΥΤΟΥΚΑΙΚΕΚΡΑΓΕΝΛΕΓΩΝΟΥΤΟΣΗΝΟΝΕΙΠΟΝΟΟΠΙΣΩΜΟΥΕΡΧΟΜΕΝΟΣΕΜΠΡΟΣΘΕΝΜΟΥΓΕΓΟΝΕΝΟΤΙΠΡΩΤΟΣΜΟΥΗΝ: 2\n",
      "ΙΩΑΝΝΗΣΜΑΡΤΥΡΙΠΕΡΙΑΥΤΟΥΚΑΙΚΕΚΡΑΓΕΝΟΥΤΟΣΗΝΟΟΠΙΣΩΜΟΥΕΡΧΟΜΕΝΟΣΟΣΕΜΠΡΟΣΘΕΝΜΟΥΓΕΓΟΝΕΝΟΤΙΠΡΩΤΟΣΜΟΥΗΝ: 1\n",
      "ΙΩΑΝΝΗΣΜΑΡΤΥΡΙΠΕΡΙΑΥΤΟΥΚΑΙΚΕΚΡΑΓΕΝΟΥΤΟΣΗΝΟΝΕΙΠΟΝΟΟΠΙΣΩΜΟΥΕΡΧΟΜΕΝΟΣΕΝΠΡΟΣΘΕΝΜΟΥΓΕΓΟΝΕΝΟΤΙΠΡΩΤΟΣΜΟΥΗΝ: 1\n",
      "ΙΩΑΝΝΗΣΜΑΡΤΥΡΙΠΕΡΙΑΥΤΟΥΚΑΙΚΕΚΡΑΓΕΝΛΕΓΩΝΟΥΤΟΣΗΝΟΝΕΙΠΟΝΟΟΠΙΣΩΜΟΥΕΡΧΟΜΕΝΟΣΕΜΠΡΟΣΘΕΝΜΟΥΓΕΓΟΝΕΝΟΤΙΠΡΩΤΟΣΜΟΥΗΝ: 1\n",
      "ΙΩΑΝΗΣΜΑΡΤΥΡΕΙΠΕΡΙΑΥΤΟΥΚΑΙΚΕΚΡΑΓΕΛΕΓΩΝΟΥΤΟΣΗΝΟΝΕΙΠΟΝΟΟΠΙΣΩΜΟΥΕΡΧΟΜΕΝΟΣΕΜΠΡΟΣΘΕΝΜΟΥΓΕΓΟΝΕΝΟΤΙΠΡΩΤΟΣΜΟΥΗΝ: 1\n",
      "\n",
      "ΟΤΙΕΚΤΟΥΠΛΗΡΩΜΑΤΟΣΑΥΤΟΥΗΜΕΙΣΠΑΝΤΕΣΕΛΑΒΟΜΕΝΚΑΙΧΑΡΙΝΑΝΤΙΧΑΡΙΤΟΣ: 5\n",
      "ΟΤΙΕΚΤΟΥΠΛΗΡΩΜΑΤΟΣΑΥΤΟΥΗΜΕΙΣΠΑΝΤΕΣ: 1\n",
      "\n",
      "ΟΤΙΟΝΟΜΟΣΔΙΑΜΩΥΣΕΩΣΕΔΟΘΗΗΧΑΡΙΣΚΑΙΗΑΛΗΘΕΙΑΔΙΑΙΗΣΟΥΧΡΙΣΤΟΥΕΓΕΝΕΤΟ: 2\n",
      "ΟΤΙΟΝΟΜΟΣΔΙΑΜΩΥΣΕΩΣΕΔΟΘΗΗΧΑΡΙΣΚΑΙΗΑΛΗΘΙΑΔΙΑΙΗΣΟΥΕΓΕΝΕΤΟ: 1\n",
      "ΟΤΙΟΝΟΜΟΣΔΙΑΜΩΥΣΕΩΣΕΔΟΘΗΗΧΑΡΙΣΔΕΚΑΙΗΑΛΗΘΙΑΔΙΑΙΗΣΟΥΧΡΙΣΤΟΥΕΓΕΝΕΤΟ: 1\n",
      "ΟΤΙΟΝΟΜΟΣΔΙΑΜΩΙΣΕΩΣΕΔΟΘΗΗΧΑΡΙΣΚΑΙΗΑΛΗΘΕΙΑΔΙΑΙΗΣΟΥΧΡΙΣΤΟΥΕΓΕΝΕΤΟ: 1\n",
      "\n",
      "ΘΕΟΝΟΥΔΕΙΣΕΩΡΑΚΕΝΠΩΠΟΤΕΜΟΝΟΓΕΝΗΣΘΕΟΣΟΩΝΕΙΣΤΟΝΚΟΛΠΟΝΤΟΥΠΑΤΡΟΣΕΚΕΙΝΟΣΕΞΗΓΗΣΑΤΟ: 2\n",
      "ΘΕΟΝΟΥΔΕΙΣΕΩΡΑΚΕΝΠΩΠΟΤΕΜΟΝΟΓΕΝΗΣΘΕΟΣΕΙΣΤΟΝΚΟΛΠΟΝΤΟΥΠΑΤΡΟΣΕΚΕΙΝΟΣΕΞΗΓΗΣΑΤΟ: 1\n",
      "ΘΕΟΝΟΥΔΕΙΣΕΩΡΑΚΕΝΠΩΠΟΤΑΙΜΟΝΟΓΕΝΗΣΘΕΟΣΟΩΝΕΙΣΤΟΝΚΟΛΠΟΝΤΟΥΠΑΤΡΟΣΕΚΙΝΟΣΕΞΗΓΗΣΑΤΟ: 1\n",
      "ΘΕΟΝΟΥΔΕΙΣΠΩΠΟΤΕΕΟΡΑΚΕΝΟΜΟΝΟΓΕΝΗΣΘΕΟΣΟΩΝΕΙΣΤΟΝΚΟΛΠΟΝΤΟΥΠΑΤΡΟΣΕΚΕΙΝΟΣΕΞΗΓΗΣΑΤΟ: 1\n",
      "\n",
      "ΚΑΙΑΥΤΗΕΣΤΙΝΗΜΑΡΤΥΡΙΑΤΟΥΙΩΑΝΝΟΥΟΤΕΑΠΕΣΤΕΙΛΑΝΠΡΟΣΑΥΤΟΝΟΙΙΟΥΔΑΙΟΙΕΞΙΕΡΟΣΟΛΥΜΩΝΙΕΡΕΙΣΚΑΙΛΕΥΙΤΑΣΙΝΑΕΡΩΤΗΣΩΣΙΝΑΥΤΟΝΣΥΤΙΣΕΙ: 2\n",
      "ΚΑΙΑΥΤΗΕΣΤΙΝΗΜΑΡΤΥΡΙΑΤΟΥΙΩΑΝΝΟΥΟΤΕΑΠΕΣΤΙΛΑΝΟΙΙΟΥΔΑΙΟΙΕΞΙΕΡΟΣΟΛΥΜΩΝΙΕΡΙΣΚΑΙΛΕΥΕΙΤΑΣΙΝΑΕΠΕΡΩΤΗΣΩΣΙΝΑΥΤΟΝΣΥΤΙΣΕΙ: 1\n",
      "ΚΑΙΑΥΤΗΕΣΤΙΝΗΜΑΡΤΥΡΙΑΤΟΥΙΩΑΝΝΟΥΟΤΕΑΠΕΣΤΙΛΑΝΟΙΙΟΥΔΑΙΟΙΕΞΙΕΡΟΣΟΛΥΜΩΝΙΕΡΕΙΣΚΑΙΛΕΥΕΙΤΑΣΙΝΑΕΡΩΤΗΣΩΣΙΝΑΥΤΟΝΣΥΤΙΣΕΙ: 1\n",
      "ΚΑΙΑΥΤΗΕΣΤΙΝΗΜΑΡΤΥΡΙΑΤΟΥΙΩΑΝΟΥΟΤΕΑΠΕΣΤΕΙΛΑΝΟΙΙΟΥΔΑΙΟΙΕΞΙΕΡΟΣΟΛΥΜΩΙΕΡΕΙΣΚΑΙΛΕΥΕΙΤΑΣΙΝΑΕΡΩΤΗΣΟΥΣΙΝΑΥΤΟΝΣΥΤΙΣΕΙ: 1\n",
      "\n",
      "ΚΑΙΩΜΟΛΟΓΗΣΕΝΚΑΙΟΥΚΗΡΝΗΣΑΤΟΚΑΙΩΜΟΛΟΓΗΣΕΝΟΤΙΕΓΩΟΥΚΕΙΜΙΟΧΡΙΣΤΟΣ: 3\n",
      "ΚΑΙΩΜΟΛΟΓΗΣΕΝΚΑΙΟΥΚΗΡΝΗΣΑΤΟΟΤΙΕΓΩΟΥΚΙΜΙΟΧΡΙΣΤΟΣ: 1\n",
      "ΚΑΙΩΜΟΛΟΓΗΣΕΝΚΑΙΟΥΚΗΡΝΗΣΑΤΟΚΑΙΩΜΟΛΟΓΗΣΕΝΟΤΙΕΓΩΟΥΚΙΜΙΟΧΡΙΣΤΟΣ: 1\n",
      "\n",
      "ΚΑΙΗΡΩΤΗΣΑΝΑΥΤΟΝΤΙΟΥΝΣΥΗΛΙΑΣΕΙΚΑΙΛΕΓΕΙΟΥΚΕΙΜΙΟΠΡΟΦΗΤΗΣΕΙΣΥΚΑΙΑΠΕΚΡΙΘΗΟΥ: 2\n",
      "ΚΑΙΕΠΗΡΩΤΗΣΑΝΠΑΛΙΝΤΙΟΥΗΛΙΑΣΕΙΛΕΓΕΙΟΥΚΕΙΜΙΠΡΟΦΗΤΗΣΕΙΣΥΚΑΙΑΠΕΚΡΙΘΗΟΥ: 1\n",
      "ΚΑΙΗΡΩΤΗΣΑΝΑΥΤΟΝΤΙΣΟΥΝΣΥΗΛΕΙΑΣΕΙΛΕΓΙΟΥΚΕΙΜΙΟΠΡΟΦΗΤΗΣΕΙΣΥΚΑΙΑΠΕΚΡΙΘΗΟΥ: 1\n",
      "ΚΑΙΗΡΩΤΗΣΑΝΑΥΤΟΝΤΙΟΥΝΣΥΗΛΕΙΑΣΕΙΚΑΙΛΕΓΕΙΟΥΚΕΙΜΙΟΠΡΟΦΗΤΗΣΕΙΣΥΚΑΙΑΠΕΚΡΙΘΗΟΥ: 1\n",
      "\n",
      "ΕΙΠΑΝΟΥΝΑΥΤΩΤΙΣΕΙΙΝΑΑΠΟΚΡΙΣΙΝΔΩΜΕΝΤΟΙΣΠΕΜΨΑΣΙΝΗΜΑΣΤΙΛΕΓΕΙΣΠΕΡΙΣΕΑΥΤΟΥ: 2\n",
      "ΕΙΠΟΝΟΥΝΑΥΤΩΤΙΣΕΙΙΝΑΑΠΟΚΡΙΣΙΝΔΩΜΕΝΤΟΙΣΠΕΜΨΑΣΙΝΗΜΑΣΤΙΛΕΓΕΙΣΠΕΡΙΣΕΑΥΤΟΥ: 1\n",
      "ΕΙΠΑΝΟΥΝΑΥΤΩΣΥΤΙΣΕΙΙΝΑΑΠΟΚΡΙΣΙΝΔΩΜΕΝΤΟΙΣΠΕΜΨΑΣΙΝΗΜΑΣΤΙΛΕΓΕΙΣΠΕΡΙΣΕΑΥΤΟΥ: 2\n",
      "\n",
      "ΕΦΗΕΓΩΦΩΝΗΒΟΩΝΤΟΣΕΝΤΗΕΡΗΜΩΕΥΘΥΝΑΤΕΤΗΝΟΔΟΝΚΥΡΙΟΥΚΑΘΩΣΕΙΠΕΝΗΣΑΙΑΣΟΠΡΟΦΗΤΗΣ: 4\n",
      "ΕΓΩΦΩΝΗΒΟΩΝΤΟΣΕΝΤΗΕΡΗΜΩΕΥΘΥΝΑΤΕΤΗΝΟΔΟΝΚΥΡΙΟΥΚΑΘΩΣΕΙΠΕΝΗΣΑΙΑΣΟΠΡΟΦΗΤΗΣ: 1\n",
      "ΕΦΗΕΓΩΦΩΝΗΒΟΩΝΤΟΣΕΝΤΗΕΡΗΜΩΕΥΘΥΝΑΤΑΙΤΗΝΟΔΟΝΚΡΙΟΥΚΑΘΩΣΕΙΠΕΝΗΣΑΙΑΣΟΠΡΟΦΗΤΗΣ: 1\n",
      "\n",
      "ΚΑΙΑΠΕΣΤΑΛΜΕΝΟΙΗΣΑΝΕΚΤΩΝΦΑΡΙΣΑΙΩΝ: 6\n",
      "\n",
      "ΚΑΙΗΡΩΤΗΣΑΝΑΥΤΟΝΚΑΙΕΙΠΑΝΑΥΤΩΤΙΟΥΝΒΑΠΤΙΖΕΙΣΕΙΣΥΟΥΚΕΙΟΧΡΙΣΤΟΣΟΥΔΕΗΛΙΑΣΟΥΔΕΟΠΡΟΦΗΤΗΣ: 2\n",
      "ΚΑΙΕΙΠΟΝΑΥΤΩΤΙΟΥΝΒΑΠΤΙΖΕΙΣΕΙΣΥΟΥΚΕΙΟΧΡΙΣΤΟΣΟΥΔΕΗΛΙΑΣΟΥΔΕΟΠΡΟΦΗΤΗΣ: 1\n",
      "ΚΑΙΗΡΩΤΗΣΑΝΑΥΤΟΝΤΙΟΥΝΒΑΠΤΙΖΕΙΣΕΙΣΥΟΥΚΕΙΟΧΡΙΣΤΟΣΟΥΔΕΗΛΙΑΣΟΥΔΕΟΠΡΟΦΗΤΗΣ: 1\n",
      "ΚΑΙΗΡΩΤΗΣΑΝΑΥΤΟΝΕΙΠΑΝΑΥΤΩΤΙΟΥΝΒΑΠΤΙΖΕΙΣΕΙΣΥΟΥΚΕΙΟΧΡΙΣΤΟΣΟΥΔΕΗΛΕΙΑΣΟΥΔΕΟΠΡΟΦΗΤΗΣ: 1\n",
      "ΚΑΙΗΡΩΤΗΣΑΝΑΥΤΟΝΚΑΙΕΙΠΑΝΑΥΤΩΤΙΟΥΝΒΑΠΤΙΖΕΙΣΕΙΣΥΟΥΚΕΙΟΧΡΙΣΤΟΣΟΥΔΕΗΛΕΙΑΣΟΥΔΕΟΠΡΟΦΗΤΗΣ: 1\n",
      "\n",
      "ΑΠΕΚΡΙΘΗΑΥΤΟΙΣΟΙΩΑΝΝΗΣΛΕΓΩΝΕΓΩΒΑΠΤΙΖΩΕΝΥΔΑΤΙΜΕΣΟΣΥΜΩΝΕΣΤΗΚΕΝΟΝΥΜΕΙΣΟΥΚΟΙΔΑΤΕ: 3\n",
      "ΑΠΕΚΡΙΘΗΑΥΤΟΙΣΟΙΩΑΝΝΗΣΛΕΓΩΝΕΓΩΒΑΠΤΙΖΩΕΝΤΩΥΔΑΤΙΜΕΣΟΣΥΜΩΝΕΣΤΗΚΕΙΟΝΥΜΕΙΣΟΥΚΟΙΔΑΤΕ: 1\n",
      "ΑΠΕΚΡΙΘΗΑΥΤΟΙΣΟΙΩΑΝΝΗΣΛΕΓΩΝΕΓΩΒΑΠΤΙΖΩΕΝΥΔΑΤΙΜΕΣΟΣΥΜΩΝΕΣΤΗΚΕΝΟΝΥΜΕΙΣΟΥΚΟΙΔΑΤΑΙ: 1\n",
      "ΑΠΕΚΡΙΘΗΑΥΤΟΙΣΟΙΩΑΝΝΗΣΕΓΩΒΑΠΤΙΖΩΕΝΥΔΑΤΙΜΕΣΟΣΥΜΩΝΙΣΤΗΚΕΙΟΝΥΜΕΙΣΟΥΚΟΙΔΑΤΕ: 1\n",
      "\n",
      "ΟΟΠΙΣΩΜΟΥΕΡΧΟΜΕΝΟΣΟΥΟΥΚΕΙΜΙΕΓΩΑΞΙΟΣΙΝΑΛΥΣΩΑΥΤΟΥΤΟΝΙΜΑΝΤΑΤΟΥΥΠΟΔΗΜΑΤΟΣ: 2\n",
      "ΟΠΙΣΩΜΟΥΕΡΧΟΜΕΝΟΣΟΥΟΥΚΕΙΜΙΑΞΙΟΣΙΝΑΛΥΣΩΑΥΤΟΥΤΟΝΙΜΑΝΤΑΤΟΥΥΠΟΔΗΜΑΤΟΣ: 1\n",
      "ΟΟΠΙΣΩΜΟΥΕΡΧΟΜΕΝΟΣΟΥΟΥΚΕΙΜΙΑΞΙΟΣΙΝΑΛΥΣΩΑΥΤΟΥΤΟΝΙΜΑΝΤΑΤΟΥΥΠΟΔΗΜΑΤΟΣ: 1\n",
      "ΟΟΠΙΣΩΜΟΥΕΡΧΟΜΕΝΟΣΟΥΟΥΚΕΙΜΙΕΓΩΙΚΑΝΟΣΙΝΑΛΥΣΩΤΟΝIΤΟΝΙΜΑΝΤΑΤΟΥΥΠΟΔΗΜΑΤΟΣ: 1\n",
      "ΟΟΠΙΣΩΜΟΥΕΡΧΟΜΕΝΟΣΟΥΟΥΚΕΙΜΙΙΚΑΝΟΣΙΝΑΛΥΣΩΑΥΤΟΥΤΟΝΙΜΑΝΤΑΤΟΥΥΠΟΔΗΜΑΤΟΣ: 1\n",
      "\n",
      "ΤΑΥΤΑΕΝΒΗΘΑΝΙΑΕΓΕΝΕΤΟΠΕΡΑΝΤΟΥΙΟΡΔΑΝΟΥΟΠΟΥΗΝΟΙΩΑΝΝΗΣΒΑΠΤΙΖΩΝ: 4\n",
      "ΤΑΥΤΑΕΓΕΝΕΤΟΕΝΒΗΘΑΝΙΑΠΕΡΑΝΤΟΥΙΟΡΔΑΝΟΥΠΟΤΑΜΟΥΟΠΟΥΗΝΟΙΩΑΝΝΗΣΒΑΠΤΙΖΩΝ: 1\n",
      "ΑΥΤΟΥΤΑΥΤΑΕΓΕΝΕΤΟΕΝΒΗΘΑΝΙΑΠΕΡΑΝΤΟΥΙΟΡΔΑΝΟΥΟΠΟΥΗΝΟΙΩΑΝΝΗΣΒΑΠΤΙΖΩΝ: 1\n",
      "\n",
      "ΤΗΕΠΑΥΡΙΟΝΒΛΕΠΕΙΤΟΝΙΗΣΟΥΝΕΡΧΟΜΕΝΟΝΠΡΟΣΑΥΤΟΝΚΑΙΛΕΓΕΙΙΔΕΟΑΜΝΟΣΤΟΥΘΕΟΥΟΑΙΡΩΝΤΗΝΑΜΑΡΤΙΑΝΤΟΥΚΟΣΜΟΥ: 5\n",
      "ΤΗΕΠΑΥΡΙΟΝΒΛΕΠΙΤΟΝΙΗΣΟΥΝΕΡΧΟΜΕΝΟΝΠΡΟΣΑΥΤΟΝΚΑΙΛΕΓΕΙΙΔΕΟΑΜΝΟΣΤΟΥΘΕΟΥΟΕΡΩΝΤΗΝΑΜΑΡΤΙΑΝΤΟΥΚΟΣΜΟΥ: 1\n",
      "\n",
      "ΟΥΤΟΣΕΣΤΙΝΥΠΕΡΟΥΕΓΩΕΙΠΟΝΟΠΙΣΩΜΟΥΕΡΧΕΤΑΙΑΝΗΡΟΣΕΜΠΡΟΣΘΕΝΜΟΥΓΕΓΟΝΕΝΟΤΙΠΡΩΤΟΣΜΟΥΗΝ: 6\n",
      "\n",
      "ΚΑΓΩΟΥΚΗΔΕΙΝΑΥΤΟΝΑΛΛΙΝΑΦΑΝΕΡΩΘΗΤΩΙΣΡΑΗΛΔΙΑΤΟΥΤΟΗΛΘΟΝΕΓΩΕΝΥΔΑΤΙΒΑΠΤΙΖΩΝ: 5\n",
      "ΚΑΓΩΟΥΚΗΔΕΙΝΑΥΤΟΑΛΛΙΝΑΦΑΝΕΡΩΘΗΤΩΙΣΡΑΗΛΔΙΑΤΟΥΤΟΗΛΘΟΝΕΓΩΕΝΥΔΑΤΙΒΑΠΤΙΖΩΝ: 1\n",
      "\n",
      "ΚΑΙΕΜΑΡΤΥΡΗΣΕΝΙΩΑΝΝΗΣΛΕΓΩΝΟΤΙΤΕΘΕΑΜΑΙΤΟΠΝΕΥΜΑΚΑΤΑΒΑΙΝΟΝΩΣΠΕΡΙΣΤΕΡΑΝΕΞΟΥΡΑΝΟΥΚΑΙΕΜΕΙΝΕΝΕΠΑΥΤΟΝ: 4\n",
      "ΚΑΙΕΜΑΡΤΥΡΗΣΕΝΙΩΑΝΝΗΣΟΤΙΤΕΘΕΑΜΑΙΤΟΠΝΕΥΜΑΩΣΠΕΡΙΣΤΕΡΑΝΚΑΤΑΒΑΙΝΟΝΕΚΤΟΥΟΥΡΑΝΟΥΚΑΙΜΕΝΟΝΕΠΑΥΤΟΝ: 1\n",
      "ΚΑΙΕΜΑΡΤΥΡΗΣΕΝΙΩΑΝΝΗΣΛΕΓΩΝΟΤΙΤΕΘΕΑΜΑΙΤΟΠΝΕΥΜΑΚΑΤΑΒΑΙΝΟΝΩΣΕΙΠΕΡΙΣΤΕΡΑΝΕΞΟΥΡΑΝΟΥΚΑΙΕΜΕΙΝΕΝΕΠΑΥΤΟΝ: 1\n",
      "\n",
      "ΚΑΓΩΟΥΚΗΔΕΙΝΑΥΤΟΝΑΛΛΟΠΕΜΨΑΣΜΕΒΑΠΤΙΖΕΙΝΕΝΥΔΑΤΙΕΚΕΙΝΟΣΜΟΙΕΙΠΕΝΕΦΟΝΑΝΙΔΗΣΤΟΠΝΕΥΜΑΚΑΤΑΒΑΙΝΟΝΚΑΙΜΕΝΟΝΕΠΑΥΤΟΝΟΥΤΟΣΕΣΤΙΝΟΒΑΠΤΙΖΩΝΕΝΠΝΕΥΜΑΤΙΑΓΙΩ: 4\n",
      "ΚΑΙΕΓΩΟΥΚΗΔΕΙΝΑΥΤΟΝΑΛΛΟΠΕΜΨΑΣΜΕΒΑΠΤΙΖΕΙΝΕΝΤΩΥΔΑΤΙΕΚΙΝΟΣΜΟΙΕΙΠΕΝΕΦΟΝΑΝΙΔΗΣΤΟΠΝΕΥΜΑΚΑΤΑΒΑΙΝΟΝΚΑΙΜΕΝΟΝΕΠΑΥΤΟΝΟΥΤΟΣΕΣΤΙΝΟΒΑΠΤΙΖΩΝΕΝΠΝΕΥΜΑΤΙΑΓΙΩ: 1\n",
      "ΚΑΓΩΟΥΚΗΔΕΙΝΑΥΤΟΝΑΛΛΟΠΕΜΨΑΣΜΕΒΑΠΤΙΖΕΙΝΕΝΤΩΥΔΑΤΙΕΚΕΙΝΟΣΜΟΙΕΙΠΕΝΕΦΟΝΑΝΕΙΔΗΣΤΟΠΝΕΥΜΑΚΑΤΑΒΑΙΝΟΝΚΑΙΜΕΝΟΝΕΠΑΥΤΟΝΟΥΤΟΣΕΣΤΙΝΟΒΑΠΤΙΖΩΝΕΝΠΝΕΥΜΑΤΙΑΓΙΩ: 1\n",
      "\n",
      "ΚΑΓΩΕΩΡΑΚΑΚΑΙΜΕΜΑΡΤΥΡΗΚΑΟΤΙΟΥΤΟΣΕΣΤΙΝΟΥΙΟΣΤΟΥΘΕΟΥ: 3\n",
      "ΚΑΓΩΕΩΡΑΚΑΚΑΙΜΕΜΑΡΤΥΡΗΚΑΟΤΙΟΥΤΟΣΕΣΤΙΝΟΕΚΛΕΚΤΟΣΤΟΥΘΕΟΥ: 2\n",
      "ΚΑΓΩΕΟΡΑΚΑΚΑΙΜΕΜΑΡΤΥΡΗΚΑΟΤΙΟΥΤΟΣΕΣΤΙΝΟΥΙΟΣΤΟΥΘΕΟΥ: 1\n",
      "\n",
      "ΤΗΕΠΑΥΡΙΟΝΠΑΛΙΝΕΙΣΤΗΚΕΙΟΙΩΑΝΝΗΣΚΑΙΕΚΤΩΝΜΑΘΗΤΩΝΑΥΤΟΥΔΥΟ: 2\n",
      "ΤΗΕΠΑΥΡΙΟΝΠΑΛΙΝΙΣΤΗΚΙΟΙΩΑΝΝΗΣΚΑΙΕΚΤΩΝΜΑΘΗΤΩΝΑΥΤΟΥΔΥΟ: 1\n",
      "ΤΗΕΠΑΥΡΙΟΝΙΣΤΗΚΕΙΟΙΩΑΝΝΗΣΚΑΙΕΚΤΩΝΜΑΘΗΤΩΝΑΥΤΟΥΔΥΟ: 1\n",
      "ΤΗΕΠΑΥΡΙΟΝΠΑΛΙΝΙΣΤΗΚΕΙΟΙΩΑΝΝΗΣΚΑΙΕΚΤΩΝΜΑΘΗΤΩΝΑΥΤΟΥΔΥΟ: 1\n",
      "ΤΗΕΠΑΥΡΙΟΝΕΙΣΤΗΧΕΙΙΩΑΝΝΗΣΚΑΙΕΚΤΩΝΜΑΘΗΤΩΝΑΥΤΟΥΔΥΟ: 1\n",
      "\n",
      "ΚΑΙΕΜΒΛΕΨΑΣΤΩΙΗΣΟΥΠΕΡΙΠΑΤΟΥΝΤΙΛΕΓΕΙΙΔΕΟΑΜΝΟΣΤΟΥΘΕΟΥ: 6\n",
      "\n",
      "ΚΑΙΗΚΟΥΣΑΝΟΙΔΥΟΜΑΘΗΤΑΙΑΥΤΟΥΛΑΛΟΥΝΤΟΣΚΑΙΗΚΟΛΟΥΘΗΣΑΝΤΩΙΗΣΟΥ: 2\n",
      "ΗΚΟΥΣΑΝΟΙΔΥΟΜΑΘΗΤΑΙΑΥΤΟΥΛΑΛΟΥΝΤΟΣΚΑΙΗΚΟΛΟΥΘΗΣΑΝΤΩΙΗΣΟΥ: 1\n",
      "ΚΑΙΗΚΟΥΣΑΝΟΙΔΥΟΜΑΘΗΤΑΙΛΑΛΟΥΝΤΟΣΚΑΙΗΚΟΛΟΥΘΗΣΑΝΤΩΙΗΣΟΥ: 1\n",
      "ΚΑΙΗΚΟΥΣΑΝΟΙΔΥΟΑΥΤΟΥΜΑΘΗΤΑΙΛΑΛΟΥΝΤΟΣΚΑΙΗΚΟΛΟΥΘΗΣΑΝΤΩΙΗΣΟΥ: 2\n",
      "\n",
      "ΣΤΡΑΦΕΙΣΔΕΟΙΗΣΟΥΣΚΑΙΘΕΑΣΑΜΕΝΟΣΑΥΤΟΥΣΑΚΟΛΟΥΘΟΥΝΤΑΣΛΕΓΕΙΑΥΤΟΙΣΤΙΖΗΤΕΙΤΕΟΙΔΕΕΙΠΑΝΑΥΤΩΡΑΒΒΙΟΛΕΓΕΤΑΙΜΕΘΕΡΜΗΝΕΥΟΜΕΝΟΝΔΙΔΑΣΚΑΛΕΠΟΥΜΕΝΕΙΣ: 2\n",
      "ΣΤΡΑΦΕΙΣΟΙΗΣΟΥΣΚΑΙΘΕΑΣΑΜΕΝΟΣΑΥΤΟΥΣΑΚΟΛΟΥΘΟΥΝΤΑΣΛΕΓΕΙΤΙΖΗΤΕΙΤΕΟΙΔΕΕΙΠΟΝΑΥΤΩΡΑΒΒΕΙΟΛΕΓΕΤΑΙΕΡΜΗΝΕΥΟΜΕΝΟΝΔΙΔΑΣΚΑΛΕΠΟΥΜΕΝΕΙΣ: 1\n",
      "ΣΤΡΑΦΕΙΣΔΕΟΙΗΣΟΥΣΚΑΙΘΕΑΣΑΜΕΝΟΣΑΥΤΟΥΣΑΚΟΛΟΥΘΟΥΝΤΑΣΛΕΓΕΙΑΥΤΟΙΣΤΙΖΗΤΕΙΤΕΟΙΔΕΕΙΠΑΝΑΥΤΩΡΑΒΒΕΙΟΛΕΓΕΤΑΙΕΡΜΗΝΕΥΟΜΕΝΟΝΔΙΔΑΣΚΑΛΕΠΟΥΜΕΝΕΙΣ: 1\n",
      "ΣΤΡΑΦΕΙΣΔΕΟΙΗΣΟΥΣΚΑΙΘΕΑΣΑΜΕΝΟΣΑΥΤΟΥΣΑΚΟΛΟΥΘΟΥΝΤΑΣΑΥΤΩΛΕΓΕΙΑΥΤΟΙΣΤΙΖΗΤΕΙΤΑΙΟΙΔΕΕΙΠΑΝΑΥΤΩΡΑΒΒΕΙΟΛΕΓΕΤΕΜΕΘΕΡΜΗΝΕΥΟΜΕΝΟΝΔΙΔΑΣΚΑΛΕΠΟΥΜΕΝΕΙΣ: 1\n",
      "ΣΤΡΑΦΕΙΣΔΕΟΙΗΣΟΥΣΚΑΙΘΕΑΣΑΜΕΝΟΣΑΥΤΟΥΣΑΚΟΛΟΥΘΟΥΝΤΑΣΛΕΓΕΙΑΥΤΟΙΣΤΙΖΗΤΕΙΤΕΟΙΔΕΕΙΠΑΝΑΥΤΩΡΑΒΒΕΙΟΛΕΓΕΤΑΙΜΕΘΕΡΜΗΝΕΥΟΜΕΝΟΝΔΙΔΑΣΚΑΛΕΠΟΥΜΕΝΕΙΣ: 1\n",
      "\n",
      "ΛΕΓΕΙΑΥΤΟΙΣΕΡΧΕΣΘΕΚΑΙΟΨΕΣΘΕΗΛΘΑΝΟΥΝΚΑΙΕΙΔΑΝΠΟΥΜΕΝΕΙΚΑΙΠΑΡΑΥΤΩΕΜΕΙΝΑΝΤΗΝΗΜΕΡΑΝΕΚΕΙΝΗΝΩΡΑΗΝΩΣΔΕΚΑΤΗ: 4\n",
      "ΛΕΓΕΙΑΥΤΟΙΣΕΡΧΕΣΘΕΚΑΙΙΔΕΤΕΗΛΘΟΝΟΥΝΚΑΙΙΔΟΝΠΟΥΜΑΙΝΕΙΚΑΙΠΑΡΑΥΤΩΕΜΙΝΑΝΤΗΝΗΜΕΡΑΝΕΚΕΙΝΗΝΩΡΑΗΝΩΣΔΕΚΑΤΗ: 1\n",
      "ΛΕΓΕΙΑΥΤΟΙΣΕΡΧΕΣΘΑΙΚΑΙΟΨΕΣΘΑΙΗΛΘΑΝΟΥΝΚΑΙΕΙΔΑΝΠΟΥΜΕΝΕΙΚΑΙΠΑΡΑΥΤΩΕΜΕΙΝΑΝΤΗΝΗΜΕΡΑΝΕΚΕΙΝΗΝΩΡΑΗΝΩΣΔΕΚΑΤΗ: 1\n",
      "\n",
      "ΗΝΑΝΔΡΕΑΣΟΑΔΕΛΦΟΣΣΙΜΩΝΟΣΠΕΤΡΟΥΕΙΣΕΚΤΩΝΔΥΟΤΩΝΑΚΟΥΣΑΝΤΩΝΠΑΡΑΙΩΑΝΝΟΥΚΑΙΑΚΟΛΟΥΘΗΣΑΝΤΩΝΑΥΤΩ: 2\n",
      "ΗΝΑΝΔΡΕΑΣΟΑΔΕΛΦΟΣΣΙΜΩΝΟΣΠΕΤΡΟΥΕΙΣΕΚΤΩΝΔΥΟΑΚΟΥΣΑΝΤΩΝΠΑΡΑΙΩΑΝΝΟΥΚΑΙΑΚΟΛΟΥΘΗΣΑΝΤΩΝΑΥΤΩ: 1\n",
      "ΗΝΑΝΔΡΕΑΣΟΑΔΕΛΦΟΣΣΙΜΩΝΟΣΠΕΤΡΟΥΕΙΣΕΚΔΥΟΤΩΝΑΚΟΥΣΑΝΤΩΝΠΑΡΑΙΩΑΝΝΟΥΚΑΙΑΚΟΛΟΥΘΗΣΑΝΤΩΝΑΥΤΩ: 1\n",
      "ΗΝΑΝΔΡΕΑΣΟΑΔΕΛΦΟΣΣΙΜΩΝΟΣΠΕΤΡΟΥΕΙΣΕΚΤΩΝΔΥΟΤΩΝΑΚΟΥΣΑΝΤΩΝΠΑΡΑΙΩΑΝΝΟΥΚΑΙΑΚΟΛΟΥΘΗΣΑΝΤΩΝΤΩΝΑΥΤΩ: 1\n",
      "ΗΝΑΝΔΡΕΑΣΟΑΔΕΛΦΟΣΣΙΜΩΝΟΣΠΕΤΡΟΥΕΙΣΕΚΤΩΝΔΥΟΤΩΝΑΚΟΥΣΑΝΤΩΝΠΑΡΑΙΩΑΝΝΟΥΚΑΙΗΚΟΛΟΥΘΗΣΑΝΤΩΝΑΥΤΩ: 1\n",
      "\n",
      "ΕΥΡΙΣΚΕΙΟΥΤΟΣΠΡΩΤΟΝΤΟΝΑΔΕΛΦΟΝΤΟΝΙΔΙΟΝΣΙΜΩΝΑΚΑΙΛΕΓΕΙΑΥΤΩΕΥΡΗΚΑΜΕΝΤΟΝΜΕΣΣΙΑΝΟΕΣΤΙΝΜΕΘΕΡΜΗΝΕΥΟΜΕΝΟΝΧΡΙΣΤΟΣ: 4\n",
      "ΕΥΡΙΣΚΕΙΟΥΤΟΣΠΡΩΤΟΣΤΟΝΑΔΕΛΦΟΝΤΟΝΙΔΙΟΝΣΙΜΩΝΑΚΑΙΛΕΓΕΙΑΥΤΩΕΥΡΗΚΑΜΕΝΤΟΝΜΕΣΣΙΑΝΟΕΣΤΙΝΜΕΘΕΡΜΗΝΕΥΟΜΕΝΟΝΧΡΙΣΤΟΣ: 1\n",
      "\n",
      "ΗΓΑΓΕΝΑΥΤΟΝΠΡΟΣΤΟΝΙΗΣΟΥΝΕΜΒΛΕΨΑΣΑΥΤΩΟΙΗΣΟΥΣΕΙΠΕΝΣΥΕΙΣΙΜΩΝΟΥΙΟΣΙΩΑΝΝΟΥΣΥΚΛΗΘΗΣΗΚΗΦΑΣΟΕΡΜΗΝΕΥΕΤΑΙΠΕΤΡΟΣ: 3\n",
      "ΟΥΤΟΣΗΓΑΓΕΝΑΥΤΟΝΠΡΟΣΤΟΝΙΗΣΟΥΝΕΜΒΛΕΨΑΣΑΥΤΩΟΙΗΣΟΥΣΕΙΠΕΝΣΥΕΙΣΙΜΩΝΟΥΙΟΣΙΩΑΝΝΟΥΣΥΚΛΗΘΗΣΗΚΗΦΑΣΟΕΡΜΗΝΕΥΕΤΑΙΠΕΤΡΟΣ: 1\n",
      "ΗΓΑΓΕΝΑΥΤΟΝΠΡΟΣΤΟΝΙΗΣΟΥΝΕΜΒΛΕΨΑΣΔΕΑΥΤΩΟΙΗΣΟΥΣΕΙΠΕΝΣΥΕΙΣΙΜΩΝΟΥΙΟΣΙΩΑΝΝΟΥΣΥΚΛΗΘΗΣΗΚΗΦΑΣΟΕΡΜΗΝΕΥΕΤΑΙΠΕΤΡΟΣ: 1\n",
      "\n",
      "ΤΗΕΠΑΥΡΙΟΝΗΘΕΛΗΣΕΝΕΞΕΛΘΕΙΝΕΙΣΤΗΝΓΑΛΙΛΑΙΑΝΚΑΙΕΥΡΙΣΚΕΙΦΙΛΙΠΠΟΝΚΑΙΛΕΓΕΙΑΥΤΩΟΙΗΣΟΥΣΑΚΟΛΟΥΘΕΙΜΟΙ: 3\n",
      "ΤΗΕΠΑΥΡΙΟΝΗΘΕΛΗΣΕΝΕΞΕΛΘΙΝΕΙΣΤΗΝΓΑΛΙΛΑΙΑΝΚΑΙΕΥΡΙΣΚΕΙΦΙΛΙΠΠΟΝΚΑΙΛΕΓΕΙΑΥΤΩΙΗΣΟΥΣΑΚΟΛΟΥΘΙΜΟΙ: 1\n",
      "ΤΗΕΠΑΥΡΙΟΝΗΘΕΛΗΣΕΝΕΞΕΛΘΕΙΝΕΙΣΤΗΝΓΑΛΙΛΑΙΑΝΚΑΙΕΥΡΙΣΚΙΦΙΛΙΠΠΟΝΚΑΙΛΕΓΙΑΥΤΩΟΙΗΣΟΥΣΑΚΟΛΟΥΘΕΙΜΟΙ: 1\n",
      "\n",
      "ΗΝΔΕΟΦΙΛΙΠΠΟΣΑΠΟΒΗΘΣΑΙΔΑΕΚΤΗΣΠΟΛΕΩΣΑΝΔΡΕΟΥΚΑΙΠΕΤΡΟΥ: 4\n",
      "ΗΝΦΙΛΙΠΠΟΣΑΠΟΒΗΘΣΑΙΔΑΝΤΗΣΠΟΛΕΩΣΑΝΔΡΕΟΥΚΑΙΠΕΤΡΟΥ: 1\n",
      "\n",
      "ΕΥΡΙΣΚΕΙΦΙΛΙΠΠΟΣΤΟΝΝΑΘΑΝΑΗΛΚΑΙΛΕΓΕΙΑΥΤΩΟΝΕΓΡΑΨΕΝΜΩΥΣΗΣΕΝΤΩΝΟΜΩΚΑΙΟΙΠΡΟΦΗΤΑΙΕΥΡΗΚΑΜΕΝΙΗΣΟΥΝΥΙΟΝΤΟΥΙΩΣΗΦΤΟΝΑΠΟΝΑΖΑΡΕΤ: 1\n",
      "ΕΥΡΙΣΚΕΙΦΙΛΙΠΠΟΣΤΟΝΝΑΘΑΝΑΗΛΚΑΙΛΕΓΕΙΑΥΤΩΟΝΕΓΡΑΨΕΝΜΩΣΗΣΕΝΤΩΝΟΜΩΚΑΙΟΙΠΡΟΦΗΤΑΙΕΥΡΗΚΑΜΕΝΙΗΣΟΥΝΥΙΟΝΤΟΥΙΩΣΗΦΤΟΝΑΠΟΝΑΖΑΡΕΤ: 1\n",
      "ΕΥΡΙΣΚΙΦΙΛΙΠΠΟΣΤΟΝΝΑΘΑΝΑΗΛΚΑΙΛΕΓΕΙΑΥΤΩΟΝΕΓΡΑΨΕΝΜΩΥΣΗΣΕΝΤΩΝΟΜΩΟΙΠΡΟΦΗΤΑΙΕΥΡΗΚΑΜΕΝΙΗΣΟΥΝΥΙΟΝΤΟΥΙΩΣΗΦΤΟΝΑΠΟΝΑΖΑΡΕΤ: 1\n",
      "ΕΥΡΙΣΚΕΙΦΙΛΙΠΠΟΣΤΟΝΝΑΘΑΝΑΗΛΚΑΙΛΕΓΕΙΑΥΤΩΟΝΕΓΡΑΨΕΝΜΩΥΣΗΣΕΝΤΩΝΟΜΩΚΑΙΟΙΠΡΟΦΗΤΑΙΕΥΡΗΚΑΜΕΝΙΗΣΟΥΝΥΙΟΝΤΟΥΙΩΣΗΦΤΟΝΑΠΟΝΑΖΑΡΕΘ: 1\n",
      "ΕΥΡΙΣΚΕΙΦΙΛΙΠΠΟΣΤΟΝΝΑΘΑΝΑΗΛΚΑΙΛΕΓΕΙΑΥΤΩΟΝΕΓΡΑΨΕΝΜΩΙΣΗΣΕΝΤΩΝΟΜΩΚΑΙΟΙΠΡΟΦΗΤΑΙΕΥΡΗΚΑΜΕΝΙΗΣΟΥΝΥΙΟΝΤΟΥΙΩΣΗΦΤΟΝΑΠΟΝΑΖΑΡΕΤ: 1\n",
      "\n",
      "ΚΑΙΕΙΠΕΝΑΥΤΩΝΑΘΑΝΑΗΛΕΚΝΑΖΑΡΕΤΔΥΝΑΤΑΙΤΙΑΓΑΘΟΝΕΙΝΑΙΛΕΓΕΙΑΥΤΩΟΦΙΛΙΠΠΟΣΕΡΧΟΥΚΑΙΙΔΕ: 2\n",
      "ΕΙΠΕΝΑΥΤΩΝΑΘΑΝΑΗΛΕΚΝΑΖΑΡΕΤΔΥΝΑΤΑΙΑΓΑΘΟΝΤΙΕΙΝΑΙΛΕΓΕΙΑΥΤΩΦΙΛΙΠΠΟΣΕΡΧΟΥΚΑΙΙΔΕ: 1\n",
      "ΕΙΠΕΝΑΥΤΩΝΑΘΑΝΑΗΛΕΚΝΑΖΑΡΕΤΔΥΝΑΤΑΙΤΙΑΓΑΘΟΝΕΙΝΑΙΛΕΓΕΙΑΥΤΩΟΦΙΛΙΠΠΟΣΕΡΧΟΥΕΙΔΕ: 1\n",
      "ΚΑΙΕΙΠΕΝΑΥΤΩΝΑΘΑΝΑΗΛΕΚΝΑΖΑΡΕΘΔΥΝΑΤΑΙΤΙΑΓΑΘΟΝΕΙΝΑΙΛΕΓΕΙΑΥΤΩΟΦΙΛΙΠΠΟΣΕΡΧΟΥΚΑΙΙΔΕ: 1\n",
      "\n",
      "ΕΙΔΕΝΟΙΗΣΟΥΣΤΟΝΝΑΘΑΝΑΗΛΕΡΧΟΜΕΝΟΝΠΡΟΣΑΥΤΟΝΚΑΙΛΕΓΕΙΠΕΡΙΑΥΤΟΥΙΔΕΑΛΗΘΩΣΙΣΡΑΗΛΙΤΗΣΕΝΩΔΟΛΟΣΟΥΚΕΣΤΙΝ: 2\n",
      "ΙΔΩΝΟΙΗΣΟΥΣΤΟΝΝΑΘΑΝΑΗΛΕΡΧΟΜΕΝΟΝΠΡΟΣΑΥΤΟΝΛΕΓΕΙΠΕΡΙΤΟΥΝΑΘΑΝΑΗΛΙΔΕΑΛΗΘΩΣΙΣΔΡΑΗΛΕΙΤΗΣΕΝΩΔΟΛΟΣΟΥΚΕΣΤΙΝ: 1\n",
      "ΕΙΔΕΝΟΙΗΣΟΥΣΤΟΝΝΑΘΑΝΑΗΛΕΡΧΟΜΕΝΟΝΠΡΟΣΑΥΤΟΝΚΑΙΛΕΓΕΙΠΕΡΙΑΥΤΟΥΙΔΕΑΛΗΘΩΣΙΣΡΑΗΛΕΙΤΗΣΕΝΩΔΟΛΟΣΟΥΚΕΣΤΙΝ: 1\n",
      "ΙΔΕΝΟΙΗΣΟΥΣΤΟΝΝΑΘΑΝΑΗΛΕΡΧΟΜΕΝΟΝΠΡΟΣΑΥΤΟΝΚΑΙΛΕΓΕΙΠΕΡΙΑΥΤΟΥΙΔΕΑΛΗΘΩΣΙΣΡΑΗΛΕΙΤΗΣΕΝΩΔΟΛΟΣΟΥΚΕΣΤΙΝ: 1\n",
      "\n",
      "ΛΕΓΕΙΑΥΤΩΝΑΘΑΝΑΗΛΠΟΘΕΝΜΕΓΙΝΩΣΚΕΙΣΑΠΕΚΡΙΘΗΙΗΣΟΥΣΚΑΙΕΙΠΕΝΑΥΤΩΠΡΟΤΟΥΣΕΦΙΛΙΠΠΟΝΦΩΝΗΣΑΙΟΝΤΑΥΠΟΤΗΝΣΥΚΗΝΕΙΔΟΝΣΕ: 2\n",
      "ΛΕΓΕΙΑΥΤΩΝΑΘΑΝΑΗΛΠΟΘΕΝΜΕΓΙΝΩΣΚΕΙΣΑΠΕΚΡΙΘΗΟΙΗΣΟΥΣΚΑΙΕΙΠΕΝΑΥΤΩΠΡΟΤΟΥΣΕΦΙΛΙΠΠΟΝΦΩΝΗΣΑΙΟΝΤΑΥΠΟΤΗΝΣΥΚΗΝΙΔΟΝΣΕ: 1\n",
      "ΛΕΓΕΙΑΥΤΩΝΑΘΑΝΑΗΛΠΟΘΕΝΜΕΓΙΝΩΣΚΕΙΣΑΠΕΚΡΙΘΗΙΗΣΟΥΣΕΙΠΕΝΑΥΤΩΠΡΟΤΟΥΣΕΦΙΛΙΠΠΟΝΦΩΝΗΣΑΙΟΝΤΑΥΠΟΤΗΝΣΥΚΗΝΕΙΔΟΝΣΕ: 1\n",
      "ΛΕΓΕΙΑΥΤΩΝΑΘΑΝΑΗΛΠΟΘΕΝΜΕΓΕΙΝΩΣΚΕΙΣΑΠΕΚΡΙΘΗΙΗΣΟΥΣΚΑΙΕΙΠΕΝΑΥΤΩΠΡΟΤΟΥΣΕΦΙΛΙΠΠΟΝΦΩΝΗΣΑΙΟΝΤΑΥΠΟΤΗΝΣΥΚΗΝΕΙΔΟΝΣΕ: 1\n",
      "\n",
      "ΑΠΕΚΡΙΘΗΑΥΤΩΝΑΘΑΝΑΗΛΡΑΒΒΙΣΥΕΙΟΥΙΟΣΤΟΥΘΕΟΥΣΥΒΑΣΙΛΕΥΣΕΙΤΟΥΙΣΡΑΗΛ: 2\n",
      "ΑΠΕΚΡΙΘΗΝΑΘΑΝΑΗΛΚΑΙΕΙΠΕΝΡΑΒΒΕΙΣΥΕΙΟΥΙΟΣΤΟΥΘΕΟΥΣΥΕΙΟΒΑΣΙΛΕΥΣΤΟΥΙΣΡΑΗΛ: 1\n",
      "ΑΠΕΚΡΙΘΗΑΥΤΩΝΑΘΑΝΑΗΛΡΑΒΒΕΙΣΥΕΙΟΥΙΟΣΤΟΥΘΕΟΥΣΥΕΙΟΒΑΣΙΛΕΥΣΤΟΥΙΣΡΑΗΛ: 1\n",
      "ΑΠΕΚΡΙΘΗΑΥΤΩΝΑΘΑΝΑΗΛΡΑΒΒΕΙΣΥΕΙΟΥΙΟΣΤΟΥΘΕΟΥΣΥΒΑΣΙΛΕΥΣΕΙΤΟΥΙΣΡΑΗΛ: 1\n",
      "\n",
      "ΑΠΕΚΡΙΘΗΙΗΣΟΥΣΚΑΙΕΙΠΕΝΑΥΤΩΟΤΙΕΙΠΟΝΣΟΙΟΤΙΕΙΔΟΝΣΕΥΠΟΚΑΤΩΤΗΣΣΥΚΗΣΠΙΣΤΕΥΕΙΣΜΕΙΖΩΤΟΥΤΩΝΟΨΗ: 2\n",
      "ΑΠΕΚΡΙΘΗΙΗΣΟΥΣΚΑΙΕΙΠΕΝΑΥΤΩΟΤΙΕΙΠΟΝΣΟΙΟΤΙΕΙΔΟΝΣΕΥΠΟΚΑΤΩΤΗΣΣΥΚΗΣΠΙΣΤΕΥΕΙΣΜΕΙΖΟΝΑΤΟΥΤΩΝΟΨΗ: 1\n",
      "ΑΠΕΚΡΙΘΗΙΗΣΟΥΣΚΑΙΕΙΠΕΝΑΥΤΩΟΤΙΕΙΠΟΝΣΟΙΟΤΙΕΙΔΟΝΣΕΥΠΟΤΗΝΣΥΚΗΝΠΙΣΤΕΥΕΙΣΜΕΙΖΟΝΑΤΟΥΤΩΝΟΨΗ: 1\n",
      "ΑΠΕΚΡΙΘΗΙΗΣΟΥΣΚΑΙΕΙΠΕΝΑΥΤΩΟΤΙΕΙΠΟΝΣΟΙΟΤΙΕΙΔΟΝΣΕΥΠΟΚΑΤΩΤΗΣΣΥΚΗΣΠΙΣΤΕΥΕΙΣΜΕΙΖΩΝΤΟΥΤΩΝΟΨΗ: 1\n",
      "\n"
     ]
    }
   ],
   "source": [
    "variants = get_variants(mss, 51)\n",
    "for i in variants:\n",
    "    for j in i:\n",
    "        print(j + \": \" + str(i[j]))\n",
    "    print()"
   ]
  },
  {
   "cell_type": "code",
   "execution_count": 144,
   "metadata": {},
   "outputs": [
    {
     "name": "stdout",
     "output_type": "stream",
     "text": [
      "1 ΕΝ ΑΡΧΗ ΗΝ Ο ΛΟΓΟΣ ΚΑΙ Ο ΛΟΓΟΣ ΗΝ ΠΡΟΣ ΤΟΝ ΘΕΟΝ ΚΑΙ ΘΕΟΣ ΗΝ Ο ΛΟΓΟΣ 2 ΟΥΤΟΣ ΗΝ ΕΝ ΑΡΧΗ ΠΡΟΣ ΤΟΝ ΘΕΟΝ 3 ΠΑΝΤΑ ΔΙ ΑΥΤΟΥ ΕΓΕΝΕΤΟ ΚΑΙ ΧΩΡΙΣ ΑΥΤΟΥ ΕΓΕΝΕΤΟ ΟΥΔΕ ΕΝ Ο ΓΕΓΟΝΕΝ 4 ΕΝ ΑΥΤΩ ΖΩΗ ΗΝ ΚΑΙ Η ΖΩΗ ΗΝ ΤΟ ΦΩΣ ΤΩΝ ΑΝΘΡΩΠΩΝ 5 ΚΑΙ ΤΟ ΦΩΣ ΕΝ ΤΗ ΣΚΟΤΙΑ ΦΑΙΝΕΙ ΚΑΙ Η ΣΚΟΤΙΑ ΑΥΤΟ ΟΥ ΚΑΤΕΛΑΒΕΝ 6 ΕΓΕΝΕΤΟ ΑΝΘΡΩΠΟΣ ΑΠΕΣΤΑΛΜΕΝΟΣ ΠΑΡΑ ΘΕΟΥ ΟΝΟΜΑ ΑΥΤΩ ΙΩΑΝΝΗΣ 7 ΟΥΤΟΣ ΗΛΘΕΝ ΕΙΣ ΜΑΡΤΥΡΙΑΝ ΙΝΑ ΜΑΡΤΥΡΗΣΗ ΠΕΡΙ ΤΟΥ ΦΩΤΟΣ ΙΝΑ ΠΑΝΤΕΣ ΠΙΣΤΕΥΣΩΣΙΝ ΔΙ ΑΥΤΟΥ 8 ΟΥΚ ΗΝ ΕΚΕΙΝΟΣ ΤΟ ΦΩΣ ΑΛΛ ΙΝΑ ΜΑΡΤΥΡΗΣΗ ΠΕΡΙ ΤΟΥ ΦΩΤΟΣ 9 ΗΝ ΤΟ ΦΩΣ ΤΟ ΑΛΗΘΙΝΟΝ Ο ΦΩΤΙΖΕΙ ΠΑΝΤΑ ΑΝΘΡΩΠΟΝ ΕΡΧΟΜΕΝΟΝ ΕΙΣ ΤΟΝ ΚΟΣΜΟΝ 10 ΕΝ ΤΩ ΚΟΣΜΩ ΗΝ ΚΑΙ Ο ΚΟΣΜΟΣ ΔΙ ΑΥΤΟΥ ΕΓΕΝΕΤΟ ΚΑΙ Ο ΚΟΣΜΟΣ ΑΥΤΟΝ ΟΥΚ ΕΓΝΩ 11 ΕΙΣ ΤΑ ΙΔΙΑ ΗΛΘΕΝ ΚΑΙ ΟΙ ΙΔΙΟΙ ΑΥΤΟΝ ΟΥ ΠΑΡΕΛΑΒΟΝ 12 ΟΣΟΙ ΔΕ ΕΛΑΒΟΝ ΑΥΤΟΝ ΕΔΩΚΕΝ ΑΥΤΟΙΣ ΕΞΟΥΣΙΑΝ ΤΕΚΝΑ ΘΕΟΥ ΓΕΝΕΣΘΑΙ ΤΟΙΣ ΠΙΣΤΕΥΟΥΣΙΝ ΕΙΣ ΤΟ ΟΝΟΜΑ ΑΥΤΟΥ 13 ΟΙ ΟΥΚ ΕΞ ΑΙΜΑΤΩΝ ΟΥΔΕ ΕΚ ΘΕΛΗΜΑΤΟΣ ΣΑΡΚΟΣ ΟΥΔΕ ΕΚ ΘΕΛΗΜΑΤΟΣ ΑΝΔΡΟΣ ΑΛΛ ΕΚ ΘΕΟΥ ΕΓΕΝΝΗΘΗΣΑΝ 14 ΚΑΙ Ο ΛΟΓΟΣ ΣΑΡΞ ΕΓΕΝΕΤΟ ΚΑΙ ΕΣΚΗΝΩΣΕΝ ΕΝ ΗΜΙΝ ΚΑΙ ΕΘΕΑΣΑΜΕΘΑ ΤΗΝ ΔΟΞΑΝ ΑΥΤΟΥ ΔΟΞΑΝ ΩΣ ΜΟΝΟΓΕΝΟΥΣ ΠΑΡΑ ΠΑΤΡΟΣ ΠΛΗΡΗΣ ΧΑΡΙΤΟΣ ΚΑΙ ΑΛΗΘΕΙΑΣ 15 ΙΩΑΝΝΗΣ ΜΑΡΤΥΡΕΙ ΠΕΡΙ ΑΥΤΟΥ ΚΑΙ ΚΕΚΡΑΓΕΝ ΛΕΓΩΝ ΟΥΤΟΣ ΗΝ ΟΝ ΕΙΠΟΝ Ο ΟΠΙΣΩ ΜΟΥ ΕΡΧΟΜΕΝΟΣ ΕΜΠΡΟΣΘΕΝ ΜΟΥ ΓΕΓΟΝΕΝ ΟΤΙ ΠΡΩΤΟΣ ΜΟΥ ΗΝ 16 ΟΤΙ ΕΚ ΤΟΥ ΠΛΗΡΩΜΑΤΟΣ ΑΥΤΟΥ ΗΜΕΙΣ ΠΑΝΤΕΣ ΕΛΑΒΟΜΕΝ ΚΑΙ ΧΑΡΙΝ ΑΝΤΙ ΧΑΡΙΤΟΣ 17 ΟΤΙ Ο ΝΟΜΟΣ ΔΙΑ ΜΩΥΣΕΩΣ ΕΔΟΘΗ Η ΧΑΡΙΣ ΚΑΙ Η ΑΛΗΘΕΙΑ ΔΙΑ ΙΗΣΟΥ ΧΡΙΣΤΟΥ ΕΓΕΝΕΤΟ  18 ΘΕΟΝ ΟΥΔΕΙΣ ΕΩΡΑΚΕΝ ΠΩΠΟΤΕ ΜΟΝΟΓΕΝΗΣ ΘΕΟΣ Ο ΩΝ ΕΙΣ ΤΟΝ ΚΟΛΠΟΝ ΤΟΥ ΠΑΤΡΟΣ ΕΚΕΙΝΟΣ ΕΞΗΓΗΣΑΤΟ 19 ΚΑΙ ΑΥΤΗ ΕΣΤΙΝ Η ΜΑΡΤΥΡΙΑ ΤΟΥ ΙΩΑΝΝΟΥ ΟΤΕ ΑΠΕΣΤΕΙΛΑΝ ΠΡΟΣ ΑΥΤΟΝ ΟΙ ΙΟΥΔΑΙΟΙ ΕΞ ΙΕΡΟΣΟΛΥΜΩΝ ΙΕΡΕΙΣ ΚΑΙ ΛΕΥΙΤΑΣ ΙΝΑ ΕΡΩΤΗΣΩΣΙΝ ΑΥΤΟΝ ΣΥ ΤΙΣ ΕΙ 20 ΚΑΙ ΩΜΟΛΟΓΗΣΕΝ ΚΑΙ ΟΥΚ ΗΡΝΗΣΑΤΟ ΚΑΙ ΩΜΟΛΟΓΗΣΕΝ ΟΤΙ ΕΓΩ ΟΥΚ ΕΙΜΙ Ο ΧΡΙΣΤΟΣ 21 ΚΑΙ ΗΡΩΤΗΣΑΝ ΑΥΤΟΝ ΤΙ ΟΥΝ ΣΥ ΗΛΙΑΣ ΕΙ ΚΑΙ ΛΕΓΕΙ ΟΥΚ ΕΙΜΙ Ο ΠΡΟΦΗΤΗΣ ΕΙ ΣΥ ΚΑΙ ΑΠΕΚΡΙΘΗ ΟΥ 22 ΕΙΠΑΝ ΟΥΝ ΑΥΤΩ ΤΙΣ ΕΙ ΙΝΑ ΑΠΟΚΡΙΣΙΝ ΔΩΜΕΝ ΤΟΙΣ ΠΕΜΨΑΣΙΝ ΗΜΑΣ ΤΙ ΛΕΓΕΙΣ ΠΕΡΙ ΣΕΑΥΤΟΥ 23 ΕΦΗ ΕΓΩ ΦΩΝΗ ΒΟΩΝΤΟΣ ΕΝ ΤΗ ΕΡΗΜΩ ΕΥΘΥΝΑΤΕ ΤΗΝ ΟΔΟΝ ΚΥΡΙΟΥ ΚΑΘΩΣ ΕΙΠΕΝ ΗΣΑΙΑΣ Ο ΠΡΟΦΗΤΗΣ 24 ΚΑΙ ΑΠΕΣΤΑΛΜΕΝΟΙ ΗΣΑΝ ΕΚ ΤΩΝ ΦΑΡΙΣΑΙΩΝ 25 ΚΑΙ ΗΡΩΤΗΣΑΝ ΑΥΤΟΝ ΚΑΙ ΕΙΠΑΝ ΑΥΤΩ ΤΙ ΟΥΝ ΒΑΠΤΙΖΕΙΣ ΕΙ ΣΥ ΟΥΚ ΕΙ Ο ΧΡΙΣΤΟΣ ΟΥΔΕ ΗΛΙΑΣ ΟΥΔΕ Ο ΠΡΟΦΗΤΗΣ 26 ΑΠΕΚΡΙΘΗ ΑΥΤΟΙΣ Ο ΙΩΑΝΝΗΣ ΛΕΓΩΝ ΕΓΩ ΒΑΠΤΙΖΩ ΕΝ ΥΔΑΤΙ ΜΕΣΟΣ ΥΜΩΝ ΕΣΤΗΚΕΝ ΟΝ ΥΜΕΙΣ ΟΥΚ ΟΙΔΑΤΕ 27 Ο ΟΠΙΣΩ ΜΟΥ ΕΡΧΟΜΕΝΟΣ ΟΥ ΟΥΚ ΕΙΜΙ ΕΓΩ ΑΞΙΟΣ ΙΝΑ ΛΥΣΩ ΑΥΤΟΥ ΤΟΝ ΙΜΑΝΤΑ ΤΟΥ ΥΠΟΔΗΜΑΤΟΣ 28 ΤΑΥΤΑ ΕΝ ΒΗΘΑΝΙΑ ΕΓΕΝΕΤΟ ΠΕΡΑΝ ΤΟΥ ΙΟΡΔΑΝΟΥ ΟΠΟΥ ΗΝ Ο ΙΩΑΝΝΗΣ ΒΑΠΤΙΖΩΝ 29 ΤΗ ΕΠΑΥΡΙΟΝ ΒΛΕΠΕΙ ΤΟΝ ΙΗΣΟΥΝ ΕΡΧΟΜΕΝΟΝ ΠΡΟΣ ΑΥΤΟΝ ΚΑΙ ΛΕΓΕΙ ΙΔΕ Ο ΑΜΝΟΣ ΤΟΥ ΘΕΟΥ Ο ΑΙΡΩΝ ΤΗΝ ΑΜΑΡΤΙΑΝ ΤΟΥ ΚΟΣΜΟΥ 30 ΟΥΤΟΣ ΕΣΤΙΝ ΥΠΕΡ ΟΥ ΕΓΩ ΕΙΠΟΝ ΟΠΙΣΩ ΜΟΥ ΕΡΧΕΤΑΙ ΑΝΗΡ ΟΣ ΕΜΠΡΟΣΘΕΝ ΜΟΥ ΓΕΓΟΝΕΝ ΟΤΙ ΠΡΩΤΟΣ ΜΟΥ ΗΝ 31 ΚΑΓΩ ΟΥΚ ΗΔΕΙΝ ΑΥΤΟΝ ΑΛΛ ΙΝΑ ΦΑΝΕΡΩΘΗ ΤΩ ΙΣΡΑΗΛ ΔΙΑ ΤΟΥΤΟ ΗΛΘΟΝ ΕΓΩ ΕΝ ΥΔΑΤΙ ΒΑΠΤΙΖΩΝ  32 ΚΑΙ ΕΜΑΡΤΥΡΗΣΕΝ ΙΩΑΝΝΗΣ ΛΕΓΩΝ ΟΤΙ ΤΕΘΕΑΜΑΙ ΤΟ ΠΝΕΥΜΑ ΚΑΤΑΒΑΙΝΟΝ ΩΣ ΠΕΡΙΣΤΕΡΑΝ ΕΞ ΟΥΡΑΝΟΥ ΚΑΙ ΕΜΕΙΝΕΝ ΕΠ ΑΥΤΟΝ 33 ΚΑΓΩ ΟΥΚ ΗΔΕΙΝ ΑΥΤΟΝ ΑΛΛ Ο ΠΕΜΨΑΣ ΜΕ ΒΑΠΤΙΖΕΙΝ ΕΝ ΥΔΑΤΙ ΕΚΕΙΝΟΣ ΜΟΙ ΕΙΠΕΝ ΕΦ ΟΝ ΑΝ ΙΔΗΣ ΤΟ ΠΝΕΥΜΑ ΚΑΤΑΒΑΙΝΟΝ ΚΑΙ ΜΕΝΟΝ ΕΠ ΑΥΤΟΝ ΟΥΤΟΣ ΕΣΤΙΝ Ο ΒΑΠΤΙΖΩΝ ΕΝ ΠΝΕΥΜΑΤΙ ΑΓΙΩ 34 ΚΑΓΩ ΕΩΡΑΚΑ ΚΑΙ ΜΕΜΑΡΤΥΡΗΚΑ ΟΤΙ ΟΥΤΟΣ ΕΣΤΙΝ Ο ΥΙΟΣ ΤΟΥ ΘΕΟΥ 35 ΤΗ ΕΠΑΥΡΙΟΝ ΠΑΛΙΝ ΕΙΣΤΗΚΕΙ Ο ΙΩΑΝΝΗΣ ΚΑΙ ΕΚ ΤΩΝ ΜΑΘΗΤΩΝ ΑΥΤΟΥ ΔΥΟ 36 ΚΑΙ ΕΜΒΛΕΨΑΣ ΤΩ ΙΗΣΟΥ ΠΕΡΙΠΑΤΟΥΝΤΙ ΛΕΓΕΙ ΙΔΕ Ο ΑΜΝΟΣ ΤΟΥ ΘΕΟΥ 37 ΚΑΙ ΗΚΟΥΣΑΝ ΟΙ ΔΥΟ ΜΑΘΗΤΑΙ ΑΥΤΟΥ ΛΑΛΟΥΝΤΟΣ ΚΑΙ ΗΚΟΛΟΥΘΗΣΑΝ ΤΩ ΙΗΣΟΥ 38 ΣΤΡΑΦΕΙΣ ΔΕ Ο ΙΗΣΟΥΣ ΚΑΙ ΘΕΑΣΑΜΕΝΟΣ ΑΥΤΟΥΣ ΑΚΟΛΟΥΘΟΥΝΤΑΣ ΛΕΓΕΙ ΑΥΤΟΙΣ ΤΙ ΖΗΤΕΙΤΕ ΟΙ ΔΕ ΕΙΠΑΝ ΑΥΤΩ ΡΑΒΒΙ Ο ΛΕΓΕΤΑΙ ΜΕΘΕΡΜΗΝΕΥΟΜΕΝΟΝ ΔΙΔΑΣΚΑΛΕ ΠΟΥ ΜΕΝΕΙΣ 39 ΛΕΓΕΙ ΑΥΤΟΙΣ ΕΡΧΕΣΘΕ ΚΑΙ ΟΨΕΣΘΕ ΗΛΘΑΝ ΟΥΝ ΚΑΙ ΕΙΔΑΝ ΠΟΥ ΜΕΝΕΙ ΚΑΙ ΠΑΡ ΑΥΤΩ ΕΜΕΙΝΑΝ ΤΗΝ ΗΜΕΡΑΝ ΕΚΕΙΝΗΝ ΩΡΑ ΗΝ ΩΣ ΔΕΚΑΤΗ  40 ΗΝ ΑΝΔΡΕΑΣ Ο ΑΔΕΛΦΟΣ ΣΙΜΩΝΟΣ ΠΕΤΡΟΥ ΕΙΣ ΕΚ ΤΩΝ ΔΥΟ ΤΩΝ ΑΚΟΥΣΑΝΤΩΝ ΠΑΡΑ ΙΩΑΝΝΟΥ ΚΑΙ ΑΚΟΛΟΥΘΗΣΑΝΤΩΝ ΑΥΤΩ 41 ΕΥΡΙΣΚΕΙ ΟΥΤΟΣ ΠΡΩΤΟΝ ΤΟΝ ΑΔΕΛΦΟΝ ΤΟΝ ΙΔΙΟΝ ΣΙΜΩΝΑ ΚΑΙ ΛΕΓΕΙ ΑΥΤΩ ΕΥΡΗΚΑΜΕΝ ΤΟΝ ΜΕΣΣΙΑΝ Ο ΕΣΤΙΝ ΜΕΘΕΡΜΗΝΕΥΟΜΕΝΟΝ ΧΡΙΣΤΟΣ 42 ΗΓΑΓΕΝ ΑΥΤΟΝ ΠΡΟΣ ΤΟΝ ΙΗΣΟΥΝ ΕΜΒΛΕΨΑΣ ΑΥΤΩ Ο ΙΗΣΟΥΣ ΕΙΠΕΝ ΣΥ ΕΙ ΣΙΜΩΝ Ο ΥΙΟΣ ΙΩΑΝΝΟΥ ΣΥ ΚΛΗΘΗΣΗ ΚΗΦΑΣ Ο ΕΡΜΗΝΕΥΕΤΑΙ ΠΕΤΡΟΣ 43 ΤΗ ΕΠΑΥΡΙΟΝ ΗΘΕΛΗΣΕΝ ΕΞΕΛΘΕΙΝ ΕΙΣ ΤΗΝ ΓΑΛΙΛΑΙΑΝ ΚΑΙ ΕΥΡΙΣΚΕΙ ΦΙΛΙΠΠΟΝ ΚΑΙ ΛΕΓΕΙ ΑΥΤΩ Ο ΙΗΣΟΥΣ ΑΚΟΛΟΥΘΕΙ ΜΟΙ 44 ΗΝ ΔΕ Ο ΦΙΛΙΠΠΟΣ ΑΠΟ ΒΗΘΣΑΙΔΑ ΕΚ ΤΗΣ ΠΟΛΕΩΣ ΑΝΔΡΕΟΥ ΚΑΙ ΠΕΤΡΟΥ 45 ΕΥΡΙΣΚΕΙ ΦΙΛΙΠΠΟΣ ΤΟΝ ΝΑΘΑΝΑΗΛ ΚΑΙ ΛΕΓΕΙ ΑΥΤΩ ΟΝ ΕΓΡΑΨΕΝ ΜΩΥΣΗΣ ΕΝ ΤΩ ΝΟΜΩ ΚΑΙ ΟΙ ΠΡΟΦΗΤΑΙ ΕΥΡΗΚΑΜΕΝ ΙΗΣΟΥΝ ΥΙΟΝ ΤΟΥ ΙΩΣΗΦ ΤΟΝ ΑΠΟ ΝΑΖΑΡΕΤ 46 ΚΑΙ ΕΙΠΕΝ ΑΥΤΩ ΝΑΘΑΝΑΗΛ ΕΚ ΝΑΖΑΡΕΤ ΔΥΝΑΤΑΙ ΤΙ ΑΓΑΘΟΝ ΕΙΝΑΙ ΛΕΓΕΙ ΑΥΤΩ Ο ΦΙΛΙΠΠΟΣ ΕΡΧΟΥ ΚΑΙ ΙΔΕ  47 ΕΙΔΕΝ Ο ΙΗΣΟΥΣ ΤΟΝ ΝΑΘΑΝΑΗΛ ΕΡΧΟΜΕΝΟΝ ΠΡΟΣ ΑΥΤΟΝ ΚΑΙ ΛΕΓΕΙ ΠΕΡΙ ΑΥΤΟΥ ΙΔΕ ΑΛΗΘΩΣ ΙΣΡΑΗΛΙΤΗΣ ΕΝ Ω ΔΟΛΟΣ ΟΥΚ ΕΣΤΙΝ 48 ΛΕΓΕΙ ΑΥΤΩ ΝΑΘΑΝΑΗΛ ΠΟΘΕΝ ΜΕ ΓΙΝΩΣΚΕΙΣ ΑΠΕΚΡΙΘΗ ΙΗΣΟΥΣ ΚΑΙ ΕΙΠΕΝ ΑΥΤΩ ΠΡΟ ΤΟΥ ΣΕ ΦΙΛΙΠΠΟΝ ΦΩΝΗΣΑΙ ΟΝΤΑ ΥΠΟ ΤΗΝ ΣΥΚΗΝ ΕΙΔΟΝ ΣΕ 49 ΑΠΕΚΡΙΘΗ ΑΥΤΩ ΝΑΘΑΝΑΗΛ ΡΑΒΒΙ ΣΥ ΕΙ Ο ΥΙΟΣ ΤΟΥ ΘΕΟΥ ΣΥ ΒΑΣΙΛΕΥΣ ΕΙ ΤΟΥ ΙΣΡΑΗΛ 50 ΑΠΕΚΡΙΘΗ ΙΗΣΟΥΣ ΚΑΙ ΕΙΠΕΝ ΑΥΤΩ ΟΤΙ ΕΙΠΟΝ ΣΟΙ ΟΤΙ ΕΙΔΟΝ ΣΕ ΥΠΟΚΑΤΩ ΤΗΣ ΣΥΚΗΣ ΠΙΣΤΕΥΕΙΣ ΜΕΙΖΩ ΤΟΥΤΩΝ ΟΨΗ 51 ΚΑΙ ΛΕΓΕΙ ΑΥΤΩ ΑΜΗΝ ΑΜΗΝ ΛΕΓΩ ΥΜΙΝ ΟΨΕΣΘΕ ΤΟΝ ΟΥΡΑΝΟΝ ΑΝΕΩΓΟΤΑ ΚΑΙ ΤΟΥΣ ΑΓΓΕΛΟΥΣ ΤΟΥ ΘΕΟΥ ΑΝΑΒΑΙΝΟΝΤΑΣ ΚΑΙ ΚΑΤΑΒΑΙΝΟΝΤΑΣ ΕΠΙ ΤΟΝ ΥΙΟΝ ΤΟΥ ΑΝΘΡΩΠΟΥ1ΚΑΙ ΤΗ ΗΜΕΡΑ ΤΗ ΤΡΙΤΗ ΓΑΜΟΣ ΕΓΕΝΕΤΟ ΕΝ ΚΑΝΑ ΤΗΣ ΓΑΛΙΛΑΙΑΣ ΚΑΙ ΗΝ Η ΜΗΤΗΡ ΤΟΥ ΙΗΣΟΥ ΕΚΕΙ 2ΕΚΛΗΘΗ ΔΕ ΚΑΙ Ο ΙΗΣΟΥΣ ΚΑΙ ΟΙ ΜΑΘΗΤΑΙ ΑΥΤΟΥ ΕΙΣ ΤΟΝ ΓΑΜΟΝ 3ΚΑΙ ΥΣΤΕΡΗΣΑΝΤΟΣ ΟΙΝΟΥ ΛΕΓΕΙ Η ΜΗΤΗΡ ΤΟΥ ΙΗΣΟΥ ΠΡΟΣ ΑΥΤΟΝ ΟΙΝΟΝ ΟΥΚ ΕΧΟΥΣΙΝ 4ΚΑΙ ΛΕΓΕΙ ΑΥΤΗ Ο ΙΗΣΟΥΣ ΤΙ ΕΜΟΙ ΚΑΙ ΣΟΙ ΓΥΝΑΙ ΟΥΠΩ ΗΚΕΙ Η ΩΡΑ ΜΟΥ 5ΛΕΓΕΙ Η ΜΗΤΗΡ ΑΥΤΟΥ ΤΟΙΣ ΔΙΑΚΟΝΟΙΣ Ο ΤΙ ΑΝ ΛΕΓΗ ΥΜΙΝ ΠΟΙΗΣΑΤΕ 6ΗΣΑΝ ΔΕ ΕΚΕΙ ΛΙΘΙΝΑΙ ΥΔΡΙΑΙ ΕΞ ΚΑΤΑ ΤΟΝ ΚΑΘΑΡΙΣΜΟΝ ΤΩΝ ΙΟΥΔΑΙΩΝ ΚΕΙΜΕΝΑΙ ΧΩΡΟΥΣΑΙ ΑΝΑ ΜΕΤΡΗΤΑΣ ΔΥΟ Η ΤΡΕΙΣ 7ΛΕΓΕΙ ΑΥΤΟΙΣ Ο ΙΗΣΟΥΣ ΓΕΜΙΣΑΤΕ ΤΑΣ ΥΔΡΙΑΣ ΥΔΑΤΟΣ ΚΑΙ ΕΓΕΜΙΣΑΝ ΑΥΤΑΣ ΕΩΣ ΑΝΩ 8ΚΑΙ ΛΕΓΕΙ ΑΥΤΟΙΣ ΑΝΤΛΗΣΑΤΕ ΝΥΝ ΚΑΙ ΦΕΡΕΤΕ ΤΩ ΑΡΧΙΤΡΙΚΛΙΝΩ ΟΙ ΔΕ ΗΝΕΓΚΑΝ 9ΩΣ ΔΕ ΕΓΕΥΣΑΤΟ Ο ΑΡΧΙΤΡΙΚΛΙΝΟΣ ΤΟ ΥΔΩΡ ΟΙΝΟΝ ΓΕΓΕΝΗΜΕΝΟΝ ΚΑΙ ΟΥΚ ΗΔΕΙ ΠΟΘΕΝ ΕΣΤΙΝ ΟΙ ΔΕ ΔΙΑΚΟΝΟΙ ΗΔΕΙΣΑΝ ΟΙ ΗΝΤΛΗΚΟΤΕΣ ΤΟ ΥΔΩΡ ΦΩΝΕΙ ΤΟΝ ΝΥΜΦΙΟΝ Ο ΑΡΧΙΤΡΙΚΛΙΝΟΣ 10ΚΑΙ ΛΕΓΕΙ ΑΥΤΩ ΠΑΣ ΑΝΘΡΩΠΟΣ ΠΡΩΤΟΝ ΤΟΝ ΚΑΛΟΝ ΟΙΝΟΝ ΤΙΘΗΣΙΝ ΚΑΙ ΟΤΑΝ ΜΕΘΥΣΘΩΣΙΝ ΤΟΝ ΕΛΑΣΣΩ ΣΥ ΤΕΤΗΡΗΚΑΣ ΤΟΝ ΚΑΛΟΝ ΟΙΝΟΝ ΕΩΣ ΑΡΤΙ  11ΤΑΥΤΗΝ ΕΠΟΙΗΣΕΝ ΑΡΧΗΝ ΤΩΝ ΣΗΜΕΙΩΝ Ο ΙΗΣΟΥΣ ΕΝ ΚΑΝΑ ΤΗΣ ΓΑΛΙΛΑΙΑΣ ΚΑΙ ΕΦΑΝΕΡΩΣΕΝ ΤΗΝ ΔΟΞΑΝ ΑΥΤΟΥ ΚΑΙ ΕΠΙΣΤΕΥΣΑΝ ΕΙΣ ΑΥΤΟΝ ΟΙ ΜΑΘΗΤΑΙ ΑΥΤΟΥ  12ΜΕΤΑ ΤΟΥΤΟ ΚΑΤΕΒΗ ΕΙΣ ΚΑΦΑΡΝΑΟΥΜ ΑΥΤΟΣ ΚΑΙ Η ΜΗΤΗΡ ΑΥΤΟΥ ΚΑΙ ΟΙ ΑΔΕΛΦΟΙ ΑΥΤΟΥ ΚΑΙ ΟΙ ΜΑΘΗΤΑΙ ΑΥΤΟΥ ΚΑΙ ΕΚΕΙ ΕΜΕΙΝΑΝ ΟΥ ΠΟΛΛΑΣ ΗΜΕΡΑΣ  13ΚΑΙ ΕΓΓΥΣ ΗΝ ΤΟ ΠΑΣΧΑ ΤΩΝ ΙΟΥΔΑΙΩΝ ΚΑΙ ΑΝΕΒΗ ΕΙΣ ΙΕΡΟΣΟΛΥΜΑ Ο ΙΗΣΟΥΣ  14ΚΑΙ ΕΥΡΕΝ ΕΝ ΤΩ ΙΕΡΩ ΤΟΥΣ ΠΩΛΟΥΝΤΑΣ ΒΟΑΣ ΚΑΙ ΠΡΟΒΑΤΑ ΚΑΙ ΠΕΡΙΣΤΕΡΑΣ ΚΑΙ ΤΟΥΣ ΚΕΡΜΑΤΙΣΤΑΣ ΚΑΘΗΜΕΝΟΥΣ 15ΚΑΙ ΠΟΙΗΣΑΣ ΦΡΑΓΕΛΛΙΟΝ ΕΚ ΣΧΟΙΝΙΩΝ ΠΑΝΤΑΣ ΕΞΕΒΑΛΕΝ ΕΚ ΤΟΥ ΙΕΡΟΥ ΤΑ ΤΕ ΠΡΟΒΑΤΑ ΚΑΙ ΤΟΥΣ ΒΟΑΣ ΚΑΙ ΤΩΝ ΚΟΛΛΥΒΙΣΤΩΝ ΕΞΕΧΕΕΝ ΤΟ ΚΕΡΜΑ ΚΑΙ ΤΑΣ ΤΡΑΠΕΖΑΣ ΑΝΕΤΡΕΨΕΝ 16ΚΑΙ ΤΟΙΣ ΤΑΣ ΠΕΡΙΣΤΕΡΑΣ ΠΩΛΟΥΣΙΝ ΕΙΠΕΝ ΑΡΑΤΕ ΤΑΥΤΑ ΕΝΤΕΥΘΕΝ ΜΗ ΠΟΙΕΙΤΕ ΤΟΝ ΟΙΚΟΝ ΤΟΥ ΠΑΤΡΟΣ ΜΟΥ ΟΙΚΟΝ ΕΜΠΟΡΙΟΥ 17ΕΜΝΗΣΘΗΣΑΝ ΟΙ ΜΑΘΗΤΑΙ ΑΥΤΟΥ ΟΤΙ ΓΕΓΡΑΜΜΕΝΟΝ ΕΣΤΙΝ Ο ΖΗΛΟΣ ΤΟΥ ΟΙΚΟΥ ΣΟΥ ΚΑΤΑΦΑΓΕΤΑΙ ΜΕ  18ΑΠΕΚΡΙΘΗΣΑΝ ΟΥΝ ΟΙ ΙΟΥΔΑΙΟΙ ΚΑΙ ΕΙΠΑΝ ΑΥΤΩ ΤΙ ΣΗΜΕΙΟΝ ΔΕΙΚΝΥΕΙΣ ΗΜΙΝ ΟΤΙ ΤΑΥΤΑ ΠΟΙΕΙΣ 19ΑΠΕΚΡΙΘΗ ΙΗΣΟΥΣ ΚΑΙ ΕΙΠΕΝ ΑΥΤΟΙΣ ΛΥΣΑΤΕ ΤΟΝ ΝΑΟΝ ΤΟΥΤΟΝ ΚΑΙ ΕΝ ΤΡΙΣΙΝ ΗΜΕΡΑΙΣ ΕΓΕΡΩ ΑΥΤΟΝ 20ΕΙΠΑΝ ΟΥΝ ΟΙ ΙΟΥΔΑΙΟΙ ΤΕΣΣΕΡΑΚΟΝΤΑ ΚΑΙ ΕΞ ΕΤΕΣΙΝ ΟΙΚΟΔΟΜΗΘΗ Ο ΝΑΟΣ ΟΥΤΟΣ ΚΑΙ ΣΥ ΕΝ ΤΡΙΣΙΝ ΗΜΕΡΑΙΣ ΕΓΕΡΕΙΣ ΑΥΤΟΝ 21ΕΚΕΙΝΟΣ ΔΕ ΕΛΕΓΕΝ ΠΕΡΙ ΤΟΥ ΝΑΟΥ ΤΟΥ ΣΩΜΑΤΟΣ ΑΥΤΟΥ 22ΟΤΕ ΟΥΝ ΗΓΕΡΘΗ ΕΚ ΝΕΚΡΩΝ ΕΜΝΗΣΘΗΣΑΝ ΟΙ ΜΑΘΗΤΑΙ ΑΥΤΟΥ ΟΤΙ ΤΟΥΤΟ ΕΛΕΓΕΝ ΚΑΙ ΕΠΙΣΤΕΥΣΑΝ ΤΗ ΓΡΑΦΗ ΚΑΙ ΤΩ ΛΟΓΩ ΟΝ ΕΙΠΕΝ Ο ΙΗΣΟΥΣ  23ΩΣ ΔΕ ΗΝ ΕΝ ΤΟΙΣ ΙΕΡΟΣΟΛΥΜΟΙΣ ΕΝ ΤΩ ΠΑΣΧΑ ΕΝ ΤΗ ΕΟΡΤΗ ΠΟΛΛΟΙ ΕΠΙΣΤΕΥΣΑΝ ΕΙΣ ΤΟ ΟΝΟΜΑ ΑΥΤΟΥ ΘΕΩΡΟΥΝΤΕΣ ΑΥΤΟΥ ΤΑ ΣΗΜΕΙΑ Α ΕΠΟΙΕΙ 24ΑΥΤΟΣ ΔΕ ΙΗΣΟΥΣ ΟΥΚ ΕΠΙΣΤΕΥΕΝ ΑΥΤΟΝ ΑΥΤΟΙΣ ΔΙΑ ΤΟ ΑΥΤΟΝ ΓΙΝΩΣΚΕΙΝ ΠΑΝΤΑΣ 25ΚΑΙ ΟΤΙ ΟΥ ΧΡΕΙΑΝ ΕΙΧΕΝ ΙΝΑ ΤΙΣ ΜΑΡΤΥΡΗΣΗ ΠΕΡΙ ΤΟΥ ΑΝΘΡΩΠΟΥ ΑΥΤΟΣ ΓΑΡ ΕΓΙΝΩΣΚΕΝ ΤΙ ΗΝ ΕΝ ΤΩ ΑΝΘΡΩΠΩ\n"
     ]
    }
   ],
   "source": [
    "# Add John chapter 2 to training data\n",
    "file = open(\"02NA28.txt\", encoding='utf-8')\n",
    "text = file.read().replace('\\n', ' ')\n",
    "NA += strip_accents(clean_text(text))\n",
    "print(NA)\n",
    "mss = []\n",
    "msid = 0\n",
    "testing = [None]*100\n",
    "addMan(testing, text, 0, 0, 0)"
   ]
  },
  {
   "cell_type": "code",
   "execution_count": 145,
   "metadata": {},
   "outputs": [
    {
     "data": {
      "text/plain": [
       "[]"
      ]
     },
     "execution_count": 145,
     "metadata": {},
     "output_type": "execute_result"
    }
   ],
   "source": [
    "find_new(text)"
   ]
  },
  {
   "cell_type": "code",
   "execution_count": 146,
   "metadata": {},
   "outputs": [],
   "source": [
    "# Loads John 2 from P66\n",
    "file = open(\"02P66.txt\", encoding='utf-8')\n",
    "text = file.read().replace('\\n', ' ')\n",
    "testing = [None]*100\n",
    "date = 150\n",
    "category = 1\n",
    "msid = 66\n",
    "addMan(testing, text, date, category, msid)"
   ]
  },
  {
   "cell_type": "code",
   "execution_count": 147,
   "metadata": {},
   "outputs": [
    {
     "data": {
      "text/plain": [
       "[]"
      ]
     },
     "execution_count": 147,
     "metadata": {},
     "output_type": "execute_result"
    }
   ],
   "source": [
    "find_new(text)"
   ]
  },
  {
   "cell_type": "code",
   "execution_count": 148,
   "metadata": {},
   "outputs": [],
   "source": [
    "# Loads John 2 from P75\n",
    "file = open(\"02P75.txt\", encoding='utf-8')\n",
    "text = file.read().replace('\\n', ' ')\n",
    "testing = [None]*100\n",
    "date = 200\n",
    "category = 1\n",
    "msid = 75\n",
    "addMan(testing, text, date, category, msid)"
   ]
  },
  {
   "cell_type": "code",
   "execution_count": 149,
   "metadata": {},
   "outputs": [
    {
     "data": {
      "text/plain": [
       "[]"
      ]
     },
     "execution_count": 149,
     "metadata": {},
     "output_type": "execute_result"
    }
   ],
   "source": [
    "find_new(text)"
   ]
  },
  {
   "cell_type": "code",
   "execution_count": 150,
   "metadata": {},
   "outputs": [],
   "source": [
    "# Loads John 2 from Codex Sinaiticus\n",
    "file = open(\"0201.txt\", encoding='utf-8')\n",
    "text = file.read().replace('\\n', ' ')\n",
    "testing = [None]*100\n",
    "date = 340\n",
    "category = 1\n",
    "msid = 1001\n",
    "addMan(testing, text, date, category, msid)"
   ]
  },
  {
   "cell_type": "code",
   "execution_count": 151,
   "metadata": {},
   "outputs": [
    {
     "data": {
      "text/plain": [
       "[]"
      ]
     },
     "execution_count": 151,
     "metadata": {},
     "output_type": "execute_result"
    }
   ],
   "source": [
    "find_new(text)"
   ]
  },
  {
   "cell_type": "code",
   "execution_count": 152,
   "metadata": {},
   "outputs": [],
   "source": [
    "# Loads John 2 from Codex Vaticanus\n",
    "file = open(\"0203.txt\", encoding='utf-8')\n",
    "text = file.read().replace('\\n', ' ')\n",
    "testing = [None]*100\n",
    "date = 350\n",
    "category = 4\n",
    "msid = 1003\n",
    "addMan(testing, text, date, category, msid)"
   ]
  },
  {
   "cell_type": "code",
   "execution_count": 153,
   "metadata": {},
   "outputs": [
    {
     "data": {
      "text/plain": [
       "[]"
      ]
     },
     "execution_count": 153,
     "metadata": {},
     "output_type": "execute_result"
    }
   ],
   "source": [
    "find_new(text)"
   ]
  },
  {
   "cell_type": "code",
   "execution_count": 154,
   "metadata": {},
   "outputs": [
    {
     "data": {
      "text/plain": [
       "[]"
      ]
     },
     "execution_count": 154,
     "metadata": {},
     "output_type": "execute_result"
    }
   ],
   "source": [
    "find_new(text)"
   ]
  },
  {
   "cell_type": "code",
   "execution_count": 155,
   "metadata": {},
   "outputs": [],
   "source": [
    "# Adds John 2 to training data sample\n",
    "modes = find_modes(mss, 25)\n",
    "testing = get_data(mss, 25)\n",
    "data += testing[0]\n",
    "targets += testing[1]\n",
    "export_data(\"data.csv\", training)"
   ]
  },
  {
   "cell_type": "code",
   "execution_count": 156,
   "metadata": {},
   "outputs": [
    {
     "name": "stdout",
     "output_type": "stream",
     "text": [
      "0.985207100591716\n",
      "[[168   4]\n",
      " [  1 165]]\n"
     ]
    }
   ],
   "source": [
    "# The SVM is even more accurate with another chapter, producing 95.2% accuracy\n",
    "clf = SVC(gamma=\"auto\", C=200000)\n",
    "clf.fit(data, targets)\n",
    "from sklearn.metrics import accuracy_score\n",
    "from sklearn.metrics import confusion_matrix\n",
    "print(accuracy_score(targets, clf.predict(data)))\n",
    "print(confusion_matrix(targets, clf.predict(data)))\n",
    "svm = clf.predict(data)"
   ]
  },
  {
   "cell_type": "code",
   "execution_count": 157,
   "metadata": {},
   "outputs": [
    {
     "name": "stdout",
     "output_type": "stream",
     "text": [
      "0.985207100591716\n",
      "[[168   4]\n",
      " [  1 165]]\n"
     ]
    }
   ],
   "source": [
    "# A decision tree produces even higher accuracy than an SVM, although it remains to be seen whether this holds when we increase the number \n",
    "# of features and the amount of training data.\n",
    "from sklearn.tree import DecisionTreeClassifier\n",
    "clf = DecisionTreeClassifier()\n",
    "clf.fit(data, targets)\n",
    "print(accuracy_score(targets, clf.predict(data)))\n",
    "print(confusion_matrix(targets, clf.predict(data)))\n",
    "dtc = clf.predict(data)"
   ]
  },
  {
   "cell_type": "code",
   "execution_count": 158,
   "metadata": {},
   "outputs": [
    {
     "name": "stdout",
     "output_type": "stream",
     "text": [
      "0.9792899408284024\n",
      "[[168   4]\n",
      " [  3 163]]\n"
     ]
    }
   ],
   "source": [
    "# A neural network approach is almost equal to an SVM or decision tree\n",
    "from sklearn.neural_network import MLPClassifier\n",
    "clf = MLPClassifier(max_iter=200000)\n",
    "clf.fit(data, targets)\n",
    "print(accuracy_score(targets, clf.predict(data)))\n",
    "print(confusion_matrix(targets, clf.predict(data)))\n",
    "nn = clf.predict(data)"
   ]
  },
  {
   "cell_type": "code",
   "execution_count": 159,
   "metadata": {},
   "outputs": [
    {
     "name": "stdout",
     "output_type": "stream",
     "text": [
      "0.985207100591716\n",
      "[[168   4]\n",
      " [  1 165]]\n"
     ]
    }
   ],
   "source": [
    "# Ensemble learner\n",
    "predictions = []\n",
    "for i in range(len(targets)):\n",
    "    if svm[i] + dtc[i] + nn[i] >= 2:\n",
    "        predictions.append(1)\n",
    "    else:\n",
    "        predictions.append(0)\n",
    "print(accuracy_score(targets, predictions))\n",
    "print(confusion_matrix(targets, predictions))"
   ]
  },
  {
   "cell_type": "code",
   "execution_count": 160,
   "metadata": {},
   "outputs": [],
   "source": [
    "# Add John chapter 3 to training data\n",
    "file = open(\"03NA28.txt\", encoding='utf-8')\n",
    "text = file.read().replace('\\n', ' ')\n",
    "NA += strip_accents(clean_text(text))\n",
    "mss = []\n",
    "testing = [None]*100\n",
    "addMan(testing, text, 0, 0, 0)"
   ]
  },
  {
   "cell_type": "code",
   "execution_count": 161,
   "metadata": {},
   "outputs": [],
   "source": [
    "NA = separate_vnum(NA)\n",
    "words = gen_dict(NA)"
   ]
  },
  {
   "cell_type": "code",
   "execution_count": 162,
   "metadata": {},
   "outputs": [],
   "source": [
    "# Loads John 3 from P66\n",
    "file = open(\"03P66.txt\", encoding='utf-8')\n",
    "text = file.read().replace('\\n', ' ')\n",
    "testing = [None]*100\n",
    "date = 150\n",
    "category = 1\n",
    "msid = 66\n",
    "addMan(testing, text, date, category, msid)"
   ]
  },
  {
   "cell_type": "code",
   "execution_count": 163,
   "metadata": {},
   "outputs": [
    {
     "data": {
      "text/plain": [
       "[]"
      ]
     },
     "execution_count": 163,
     "metadata": {},
     "output_type": "execute_result"
    }
   ],
   "source": [
    "find_new(text)"
   ]
  },
  {
   "cell_type": "code",
   "execution_count": 164,
   "metadata": {},
   "outputs": [],
   "source": [
    "# Loads John 3 from P75\n",
    "file = open(\"03P75.txt\", encoding='utf-8')\n",
    "text = file.read().replace('\\n', ' ')\n",
    "testing = [None]*100\n",
    "date = 200\n",
    "category = 1\n",
    "msid = 75\n",
    "addMan(testing, text, date, category, msid)"
   ]
  },
  {
   "cell_type": "code",
   "execution_count": 165,
   "metadata": {},
   "outputs": [
    {
     "data": {
      "text/plain": [
       "[]"
      ]
     },
     "execution_count": 165,
     "metadata": {},
     "output_type": "execute_result"
    }
   ],
   "source": [
    "find_new(text)"
   ]
  },
  {
   "cell_type": "code",
   "execution_count": 166,
   "metadata": {},
   "outputs": [],
   "source": [
    "# Loads John 3 from Sinaiticus\n",
    "file = open(\"0301.txt\", encoding='utf-8')\n",
    "text = file.read().replace('\\n', ' ')\n",
    "testing = [None]*100\n",
    "date = 340\n",
    "category = 1\n",
    "msid = 1001\n",
    "addMan(testing, text, date, category, msid)"
   ]
  },
  {
   "cell_type": "code",
   "execution_count": 167,
   "metadata": {},
   "outputs": [
    {
     "data": {
      "text/plain": [
       "[]"
      ]
     },
     "execution_count": 167,
     "metadata": {},
     "output_type": "execute_result"
    }
   ],
   "source": [
    "find_new(text)"
   ]
  },
  {
   "cell_type": "code",
   "execution_count": 168,
   "metadata": {},
   "outputs": [],
   "source": [
    "# Loads John 3 from Codex Bezae\n",
    "file = open(\"0305.txt\", encoding='utf-8')\n",
    "text = file.read().replace('\\n', ' ')\n",
    "testing = [None]*100\n",
    "date = 400\n",
    "category = 1\n",
    "msid = 1005\n",
    "addMan(testing, text, date, category, msid)"
   ]
  },
  {
   "cell_type": "code",
   "execution_count": 169,
   "metadata": {},
   "outputs": [
    {
     "data": {
      "text/plain": [
       "[]"
      ]
     },
     "execution_count": 169,
     "metadata": {},
     "output_type": "execute_result"
    }
   ],
   "source": [
    "find_new(text)"
   ]
  },
  {
   "cell_type": "code",
   "execution_count": 170,
   "metadata": {},
   "outputs": [],
   "source": [
    "# Loads John 3 from Codex Vaticanus\n",
    "file = open(\"0303.txt\", encoding='utf-8')\n",
    "text = file.read().replace('\\n', ' ')\n",
    "testing = [None]*100\n",
    "date = 350\n",
    "category = 1\n",
    "msid = 1003\n",
    "addMan(testing, text, date, category, msid)"
   ]
  },
  {
   "cell_type": "code",
   "execution_count": 171,
   "metadata": {},
   "outputs": [
    {
     "data": {
      "text/plain": [
       "[]"
      ]
     },
     "execution_count": 171,
     "metadata": {},
     "output_type": "execute_result"
    }
   ],
   "source": [
    "find_new(text)"
   ]
  },
  {
   "cell_type": "code",
   "execution_count": 172,
   "metadata": {},
   "outputs": [],
   "source": [
    "# Adds John 3 to training data sample\n",
    "modes = find_modes(mss, 36)\n",
    "testing = get_data(mss, 36)\n",
    "data += testing[0]\n",
    "targets += testing[1]\n",
    "export_data(\"data.csv\", training)"
   ]
  },
  {
   "cell_type": "code",
   "execution_count": 173,
   "metadata": {},
   "outputs": [
    {
     "name": "stdout",
     "output_type": "stream",
     "text": [
      "0.9878296146044625\n",
      "[[249   5]\n",
      " [  1 238]]\n"
     ]
    }
   ],
   "source": [
    "# Chapter 3 throws in a bit more confusion, reducing accuracy to just below 95%\n",
    "clf = SVC(gamma=\"auto\", C=200000)\n",
    "clf.fit(data, targets)\n",
    "from sklearn.metrics import accuracy_score\n",
    "from sklearn.metrics import confusion_matrix\n",
    "print(accuracy_score(targets, clf.predict(data)))\n",
    "print(confusion_matrix(targets, clf.predict(data)))\n",
    "svm = clf.predict(data)"
   ]
  },
  {
   "cell_type": "code",
   "execution_count": 174,
   "metadata": {},
   "outputs": [
    {
     "name": "stdout",
     "output_type": "stream",
     "text": [
      "0.9878296146044625\n",
      "[[249   5]\n",
      " [  1 238]]\n"
     ]
    }
   ],
   "source": [
    "# The decision tree actually improves its accuracy with the addition of chapter 3, topping 96%\n",
    "from sklearn.tree import DecisionTreeClassifier\n",
    "clf = DecisionTreeClassifier()\n",
    "clf.fit(data, targets)\n",
    "print(accuracy_score(targets, clf.predict(data)))\n",
    "print(confusion_matrix(targets, clf.predict(data)))\n",
    "dtc = clf.predict(data)"
   ]
  },
  {
   "cell_type": "code",
   "execution_count": 175,
   "metadata": {},
   "outputs": [
    {
     "name": "stdout",
     "output_type": "stream",
     "text": [
      "0.8985801217038539\n",
      "[[211  43]\n",
      " [  7 232]]\n"
     ]
    }
   ],
   "source": [
    "# A neural network approach doesn't achieve the same level of performance as an SVM or decision tree, but it is pretty close\n",
    "from sklearn.neural_network import MLPClassifier\n",
    "clf = MLPClassifier(max_iter=200000)\n",
    "clf.fit(data, targets)\n",
    "print(accuracy_score(targets, clf.predict(data)))\n",
    "print(confusion_matrix(targets, clf.predict(data)))\n",
    "nn = clf.predict(data)"
   ]
  },
  {
   "cell_type": "code",
   "execution_count": 176,
   "metadata": {},
   "outputs": [
    {
     "name": "stdout",
     "output_type": "stream",
     "text": [
      "0.9878296146044625\n",
      "[[249   5]\n",
      " [  1 238]]\n"
     ]
    }
   ],
   "source": [
    "# Ensemble learner\n",
    "predictions = []\n",
    "for i in range(len(targets)):\n",
    "    if svm[i] + dtc[i] + nn[i] >= 2:\n",
    "        predictions.append(1)\n",
    "    else:\n",
    "        predictions.append(0)\n",
    "print(accuracy_score(targets, predictions))\n",
    "print(confusion_matrix(targets, predictions))"
   ]
  },
  {
   "cell_type": "code",
   "execution_count": 177,
   "metadata": {},
   "outputs": [],
   "source": [
    "# Add John chapter 8 to training data\n",
    "file = open(\"08NA28.txt\", encoding='utf-8')\n",
    "text = file.read().replace('\\n', ' ')\n",
    "NA += strip_accents(clean_text(text))\n",
    "mss = []\n",
    "testing = [None]*100\n",
    "addMan(testing, text, 0, 0, 0)"
   ]
  },
  {
   "cell_type": "code",
   "execution_count": 178,
   "metadata": {},
   "outputs": [],
   "source": [
    "# Loads John 8 from P39\n",
    "file = open(\"08P39.txt\", encoding='utf-8')\n",
    "text = file.read().replace('\\n', ' ')\n",
    "testing = [None]*100\n",
    "date = 300\n",
    "category = 1\n",
    "msid = 39\n",
    "addMan(testing, text, date, category, msid)"
   ]
  },
  {
   "cell_type": "code",
   "execution_count": 179,
   "metadata": {},
   "outputs": [],
   "source": [
    "# Loads John 8 from P66\n",
    "file = open(\"08P66.txt\", encoding='utf-8')\n",
    "text = file.read().replace('\\n', ' ')\n",
    "testing = [None]*100\n",
    "date = 150\n",
    "category = 1\n",
    "msid = 66\n",
    "addMan(testing, text, date, category, msid)"
   ]
  },
  {
   "cell_type": "code",
   "execution_count": 180,
   "metadata": {},
   "outputs": [
    {
     "data": {
      "text/plain": [
       "[]"
      ]
     },
     "execution_count": 180,
     "metadata": {},
     "output_type": "execute_result"
    }
   ],
   "source": [
    "find_new(text)"
   ]
  },
  {
   "cell_type": "code",
   "execution_count": 181,
   "metadata": {},
   "outputs": [],
   "source": [
    "# Loads John 8 from P75\n",
    "file = open(\"08P75.txt\", encoding='utf-8')\n",
    "text = file.read().replace('\\n', ' ')\n",
    "testing = [None]*100\n",
    "date = 200\n",
    "category = 1\n",
    "msid = 75\n",
    "addMan(testing, text, date, category, msid)"
   ]
  },
  {
   "cell_type": "code",
   "execution_count": 182,
   "metadata": {},
   "outputs": [],
   "source": [
    "# Loads John 8 from Codex Bezae\n",
    "file = open(\"0805.txt\", encoding='utf-8')\n",
    "text = file.read().replace('\\n', ' ')\n",
    "testing = [None]*100\n",
    "date = 400\n",
    "category = 1\n",
    "msid = 1005\n",
    "addMan(testing, text, date, category, msid)"
   ]
  },
  {
   "cell_type": "code",
   "execution_count": 183,
   "metadata": {},
   "outputs": [],
   "source": [
    "# Loads John 8 from Codex Vaticanus\n",
    "file = open(\"0803.txt\", encoding='utf-8')\n",
    "text = file.read().replace('\\n', ' ')\n",
    "testing = [None]*100\n",
    "date = 350\n",
    "category = 1\n",
    "msid = 1003\n",
    "addMan(testing, text, date, category, msid)"
   ]
  },
  {
   "cell_type": "code",
   "execution_count": 184,
   "metadata": {},
   "outputs": [
    {
     "data": {
      "text/plain": [
       "SVC(C=200000, gamma='auto')"
      ]
     },
     "execution_count": 184,
     "metadata": {},
     "output_type": "execute_result"
    }
   ],
   "source": [
    "# Adds John 8 to training data sample\n",
    "modes = find_modes(mss, 59)\n",
    "testing = get_data(mss, 59)\n",
    "data += testing[0]\n",
    "targets += testing[1]\n",
    "export_data(\"data.csv\", training)\n",
    "clf = SVC(gamma=\"auto\", C=200000)\n",
    "clf.fit(data, targets)"
   ]
  },
  {
   "cell_type": "code",
   "execution_count": 185,
   "metadata": {},
   "outputs": [
    {
     "name": "stdout",
     "output_type": "stream",
     "text": [
      "0.963924963924964\n",
      "[[391  18]\n",
      " [  7 277]]\n"
     ]
    }
   ],
   "source": [
    "from sklearn.metrics import accuracy_score\n",
    "from sklearn.metrics import confusion_matrix\n",
    "print(accuracy_score(targets, clf.predict(data)))\n",
    "print(confusion_matrix(targets, clf.predict(data)))\n",
    "svm = clf.predict(data)"
   ]
  },
  {
   "cell_type": "code",
   "execution_count": 186,
   "metadata": {},
   "outputs": [
    {
     "name": "stdout",
     "output_type": "stream",
     "text": [
      "0.963924963924964\n",
      "[[392  17]\n",
      " [  8 276]]\n"
     ]
    }
   ],
   "source": [
    "from sklearn.tree import DecisionTreeClassifier\n",
    "clf = DecisionTreeClassifier()\n",
    "clf.fit(data, targets)\n",
    "print(accuracy_score(targets, clf.predict(data)))\n",
    "print(confusion_matrix(targets, clf.predict(data)))\n",
    "dtc = clf.predict(data)"
   ]
  },
  {
   "cell_type": "code",
   "execution_count": 187,
   "metadata": {},
   "outputs": [
    {
     "name": "stdout",
     "output_type": "stream",
     "text": [
      "0.8874458874458875\n",
      "[[402   7]\n",
      " [ 71 213]]\n"
     ]
    }
   ],
   "source": [
    "# A neural network approach doesn't (usually) achieve the same level of performance as an SVM or decision tree, but it is pretty close\n",
    "from sklearn.neural_network import MLPClassifier\n",
    "clf = MLPClassifier(max_iter=200000)\n",
    "clf.fit(data, targets)\n",
    "print(accuracy_score(targets, clf.predict(data)))\n",
    "print(confusion_matrix(targets, clf.predict(data)))\n",
    "nn = clf.predict(data)"
   ]
  },
  {
   "cell_type": "code",
   "execution_count": 188,
   "metadata": {},
   "outputs": [
    {
     "name": "stdout",
     "output_type": "stream",
     "text": [
      "0.963924963924964\n",
      "[[391  18]\n",
      " [  7 277]]\n"
     ]
    }
   ],
   "source": [
    "# An ensemble learner doesn't appear to produce any higher accuracy than a single classifier\n",
    "predictions = []\n",
    "for i in range(len(targets)):\n",
    "    if svm[i] + dtc[i] + nn[i] >= 2:\n",
    "        predictions.append(1)\n",
    "    else:\n",
    "        predictions.append(0)\n",
    "print(accuracy_score(targets, predictions))\n",
    "print(confusion_matrix(targets, predictions))"
   ]
  },
  {
   "cell_type": "code",
   "execution_count": 189,
   "metadata": {},
   "outputs": [
    {
     "data": {
      "text/plain": [
       "SVC(C=200000, gamma='auto')"
      ]
     },
     "execution_count": 189,
     "metadata": {},
     "output_type": "execute_result"
    }
   ],
   "source": [
    "clf = SVC(gamma=\"auto\", C=200000)\n",
    "clf.fit(data, targets)"
   ]
  },
  {
   "cell_type": "code",
   "execution_count": 190,
   "metadata": {},
   "outputs": [
    {
     "data": {
      "text/plain": [
       "Text(0.5, 0, 'Permutation Importance')"
      ]
     },
     "execution_count": 190,
     "metadata": {},
     "output_type": "execute_result"
    },
    {
     "data": {
      "image/png": "[encoded data removed]",
      "text/plain": [
       "<Figure size 432x288 with 1 Axes>"
      ]
     },
     "metadata": {
      "needs_background": "light"
     },
     "output_type": "display_data"
    }
   ],
   "source": [
    "from sklearn.inspection import permutation_importance\n",
    "import numpy as np\n",
    "import matplotlib.pyplot as plt\n",
    "%matplotlib inline\n",
    "\n",
    "perm_importance = permutation_importance(clf, data, targets)\n",
    "\n",
    "feature_names = ['Date', 'Relative length', 'Manuscripts with the same reading', 'Textual category', 'ID']\n",
    "features = np.array(feature_names)\n",
    "\n",
    "sorted_idx = perm_importance.importances_mean.argsort()\n",
    "plt.barh(features[sorted_idx], perm_importance.importances_mean[sorted_idx])\n",
    "plt.xlabel(\"Permutation Importance\")"
   ]
  },
  {
   "cell_type": "code",
   "execution_count": null,
   "metadata": {},
   "outputs": [],
   "source": []
  }
 ],
 "metadata": {
  "kernelspec": {
   "display_name": "Python 3",
   "language": "python",
   "name": "python3"
  },
  "language_info": {
   "codemirror_mode": {
    "name": "ipython",
    "version": 3
   },
   "file_extension": ".py",
   "mimetype": "text/x-python",
   "name": "python",
   "nbconvert_exporter": "python",
   "pygments_lexer": "ipython3",
   "version": "3.8.8"
  }
 },
 "nbformat": 4,
 "nbformat_minor": 4
}
